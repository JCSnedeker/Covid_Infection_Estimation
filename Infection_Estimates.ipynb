{
  "nbformat": 4,
  "nbformat_minor": 0,
  "metadata": {
    "colab": {
      "name": "Infection_Estimates.ipynb",
      "provenance": [],
      "authorship_tag": "ABX9TyOa5DwbPQDw+8ze+CW2Auy1",
      "include_colab_link": true
    },
    "kernelspec": {
      "name": "python3",
      "display_name": "Python 3"
    }
  },
  "cells": [
    {
      "cell_type": "markdown",
      "metadata": {
        "id": "view-in-github",
        "colab_type": "text"
      },
      "source": [
        "<a href=\"https://colab.research.google.com/github/JCSnedeker/Covid_Infection_Estimation/blob/main/Infection_Estimates.ipynb\" target=\"_parent\"><img src=\"https://colab.research.google.com/assets/colab-badge.svg\" alt=\"Open In Colab\"/></a>"
      ]
    },
    {
      "cell_type": "code",
      "metadata": {
        "id": "JxvgafKAjNXW"
      },
      "source": [
        "import pandas as pd\r\n",
        "import numpy as np"
      ],
      "execution_count": null,
      "outputs": []
    },
    {
      "cell_type": "code",
      "metadata": {
        "id": "vXn_v_mtj3Gf"
      },
      "source": [
        "df=pd.read_csv(\"https://raw.githubusercontent.com/JCSnedeker/Covid_Infection_Estimation/main/all-states-history%20(1).csv\")"
      ],
      "execution_count": null,
      "outputs": []
    },
    {
      "cell_type": "code",
      "metadata": {
        "colab": {
          "base_uri": "https://localhost:8080/",
          "height": 309
        },
        "id": "jikQQUWtkjpU",
        "outputId": "814922a1-d2d5-4cef-a466-ffa7209caffd"
      },
      "source": [
        "df.head()"
      ],
      "execution_count": null,
      "outputs": [
        {
          "output_type": "execute_result",
          "data": {
            "text/html": [
              "<div>\n",
              "<style scoped>\n",
              "    .dataframe tbody tr th:only-of-type {\n",
              "        vertical-align: middle;\n",
              "    }\n",
              "\n",
              "    .dataframe tbody tr th {\n",
              "        vertical-align: top;\n",
              "    }\n",
              "\n",
              "    .dataframe thead th {\n",
              "        text-align: right;\n",
              "    }\n",
              "</style>\n",
              "<table border=\"1\" class=\"dataframe\">\n",
              "  <thead>\n",
              "    <tr style=\"text-align: right;\">\n",
              "      <th></th>\n",
              "      <th>date</th>\n",
              "      <th>state</th>\n",
              "      <th>dataQualityGrade</th>\n",
              "      <th>death</th>\n",
              "      <th>deathConfirmed</th>\n",
              "      <th>deathIncrease</th>\n",
              "      <th>deathProbable</th>\n",
              "      <th>hospitalized</th>\n",
              "      <th>hospitalizedCumulative</th>\n",
              "      <th>hospitalizedCurrently</th>\n",
              "      <th>hospitalizedIncrease</th>\n",
              "      <th>inIcuCumulative</th>\n",
              "      <th>inIcuCurrently</th>\n",
              "      <th>negative</th>\n",
              "      <th>negativeIncrease</th>\n",
              "      <th>negativeTestsAntibody</th>\n",
              "      <th>negativeTestsPeopleAntibody</th>\n",
              "      <th>negativeTestsViral</th>\n",
              "      <th>onVentilatorCumulative</th>\n",
              "      <th>onVentilatorCurrently</th>\n",
              "      <th>positive</th>\n",
              "      <th>positiveCasesViral</th>\n",
              "      <th>positiveIncrease</th>\n",
              "      <th>positiveScore</th>\n",
              "      <th>positiveTestsAntibody</th>\n",
              "      <th>positiveTestsAntigen</th>\n",
              "      <th>positiveTestsPeopleAntibody</th>\n",
              "      <th>positiveTestsPeopleAntigen</th>\n",
              "      <th>positiveTestsViral</th>\n",
              "      <th>recovered</th>\n",
              "      <th>totalTestEncountersViral</th>\n",
              "      <th>totalTestEncountersViralIncrease</th>\n",
              "      <th>totalTestResults</th>\n",
              "      <th>totalTestResultsIncrease</th>\n",
              "      <th>totalTestsAntibody</th>\n",
              "      <th>totalTestsAntigen</th>\n",
              "      <th>totalTestsPeopleAntibody</th>\n",
              "      <th>totalTestsPeopleAntigen</th>\n",
              "      <th>totalTestsPeopleViral</th>\n",
              "      <th>totalTestsPeopleViralIncrease</th>\n",
              "      <th>totalTestsViral</th>\n",
              "      <th>totalTestsViralIncrease</th>\n",
              "    </tr>\n",
              "  </thead>\n",
              "  <tbody>\n",
              "    <tr>\n",
              "      <th>0</th>\n",
              "      <td>2020-12-16</td>\n",
              "      <td>AK</td>\n",
              "      <td>A</td>\n",
              "      <td>181.0</td>\n",
              "      <td>181.0</td>\n",
              "      <td>2</td>\n",
              "      <td>NaN</td>\n",
              "      <td>921.0</td>\n",
              "      <td>921.0</td>\n",
              "      <td>146.0</td>\n",
              "      <td>13</td>\n",
              "      <td>NaN</td>\n",
              "      <td>NaN</td>\n",
              "      <td>1125104.0</td>\n",
              "      <td>7675</td>\n",
              "      <td>NaN</td>\n",
              "      <td>NaN</td>\n",
              "      <td>1115724.0</td>\n",
              "      <td>NaN</td>\n",
              "      <td>15.0</td>\n",
              "      <td>41041.0</td>\n",
              "      <td>NaN</td>\n",
              "      <td>603</td>\n",
              "      <td>0</td>\n",
              "      <td>NaN</td>\n",
              "      <td>NaN</td>\n",
              "      <td>NaN</td>\n",
              "      <td>NaN</td>\n",
              "      <td>49120.0</td>\n",
              "      <td>7165.0</td>\n",
              "      <td>NaN</td>\n",
              "      <td>0</td>\n",
              "      <td>1166145.0</td>\n",
              "      <td>8278</td>\n",
              "      <td>NaN</td>\n",
              "      <td>NaN</td>\n",
              "      <td>NaN</td>\n",
              "      <td>NaN</td>\n",
              "      <td>NaN</td>\n",
              "      <td>0</td>\n",
              "      <td>1166145.0</td>\n",
              "      <td>8278</td>\n",
              "    </tr>\n",
              "    <tr>\n",
              "      <th>1</th>\n",
              "      <td>2020-12-16</td>\n",
              "      <td>AL</td>\n",
              "      <td>A</td>\n",
              "      <td>4198.0</td>\n",
              "      <td>3704.0</td>\n",
              "      <td>74</td>\n",
              "      <td>494.0</td>\n",
              "      <td>29559.0</td>\n",
              "      <td>29559.0</td>\n",
              "      <td>2310.0</td>\n",
              "      <td>300</td>\n",
              "      <td>2380.0</td>\n",
              "      <td>NaN</td>\n",
              "      <td>1491279.0</td>\n",
              "      <td>6097</td>\n",
              "      <td>NaN</td>\n",
              "      <td>NaN</td>\n",
              "      <td>NaN</td>\n",
              "      <td>1364.0</td>\n",
              "      <td>NaN</td>\n",
              "      <td>305640.0</td>\n",
              "      <td>249849.0</td>\n",
              "      <td>4107</td>\n",
              "      <td>0</td>\n",
              "      <td>NaN</td>\n",
              "      <td>NaN</td>\n",
              "      <td>NaN</td>\n",
              "      <td>NaN</td>\n",
              "      <td>NaN</td>\n",
              "      <td>183625.0</td>\n",
              "      <td>NaN</td>\n",
              "      <td>0</td>\n",
              "      <td>1741128.0</td>\n",
              "      <td>8943</td>\n",
              "      <td>NaN</td>\n",
              "      <td>NaN</td>\n",
              "      <td>79047.0</td>\n",
              "      <td>NaN</td>\n",
              "      <td>1741128.0</td>\n",
              "      <td>8943</td>\n",
              "      <td>NaN</td>\n",
              "      <td>0</td>\n",
              "    </tr>\n",
              "    <tr>\n",
              "      <th>2</th>\n",
              "      <td>2020-12-16</td>\n",
              "      <td>AR</td>\n",
              "      <td>A+</td>\n",
              "      <td>3074.0</td>\n",
              "      <td>2725.0</td>\n",
              "      <td>58</td>\n",
              "      <td>349.0</td>\n",
              "      <td>10230.0</td>\n",
              "      <td>10230.0</td>\n",
              "      <td>1079.0</td>\n",
              "      <td>134</td>\n",
              "      <td>NaN</td>\n",
              "      <td>399.0</td>\n",
              "      <td>1722858.0</td>\n",
              "      <td>9979</td>\n",
              "      <td>NaN</td>\n",
              "      <td>NaN</td>\n",
              "      <td>1722858.0</td>\n",
              "      <td>1117.0</td>\n",
              "      <td>184.0</td>\n",
              "      <td>191504.0</td>\n",
              "      <td>163230.0</td>\n",
              "      <td>2306</td>\n",
              "      <td>0</td>\n",
              "      <td>NaN</td>\n",
              "      <td>3300.0</td>\n",
              "      <td>NaN</td>\n",
              "      <td>34344.0</td>\n",
              "      <td>NaN</td>\n",
              "      <td>167631.0</td>\n",
              "      <td>NaN</td>\n",
              "      <td>0</td>\n",
              "      <td>1886088.0</td>\n",
              "      <td>11617</td>\n",
              "      <td>NaN</td>\n",
              "      <td>21856.0</td>\n",
              "      <td>NaN</td>\n",
              "      <td>187871.0</td>\n",
              "      <td>NaN</td>\n",
              "      <td>0</td>\n",
              "      <td>1886088.0</td>\n",
              "      <td>11617</td>\n",
              "    </tr>\n",
              "    <tr>\n",
              "      <th>3</th>\n",
              "      <td>2020-12-16</td>\n",
              "      <td>AS</td>\n",
              "      <td>D</td>\n",
              "      <td>0.0</td>\n",
              "      <td>NaN</td>\n",
              "      <td>0</td>\n",
              "      <td>NaN</td>\n",
              "      <td>NaN</td>\n",
              "      <td>NaN</td>\n",
              "      <td>NaN</td>\n",
              "      <td>0</td>\n",
              "      <td>NaN</td>\n",
              "      <td>NaN</td>\n",
              "      <td>2140.0</td>\n",
              "      <td>0</td>\n",
              "      <td>NaN</td>\n",
              "      <td>NaN</td>\n",
              "      <td>NaN</td>\n",
              "      <td>NaN</td>\n",
              "      <td>NaN</td>\n",
              "      <td>0.0</td>\n",
              "      <td>0.0</td>\n",
              "      <td>0</td>\n",
              "      <td>0</td>\n",
              "      <td>NaN</td>\n",
              "      <td>NaN</td>\n",
              "      <td>NaN</td>\n",
              "      <td>NaN</td>\n",
              "      <td>NaN</td>\n",
              "      <td>NaN</td>\n",
              "      <td>NaN</td>\n",
              "      <td>0</td>\n",
              "      <td>2140.0</td>\n",
              "      <td>0</td>\n",
              "      <td>NaN</td>\n",
              "      <td>NaN</td>\n",
              "      <td>NaN</td>\n",
              "      <td>NaN</td>\n",
              "      <td>NaN</td>\n",
              "      <td>0</td>\n",
              "      <td>2140.0</td>\n",
              "      <td>0</td>\n",
              "    </tr>\n",
              "    <tr>\n",
              "      <th>4</th>\n",
              "      <td>2020-12-16</td>\n",
              "      <td>AZ</td>\n",
              "      <td>A+</td>\n",
              "      <td>7530.0</td>\n",
              "      <td>6919.0</td>\n",
              "      <td>108</td>\n",
              "      <td>611.0</td>\n",
              "      <td>31468.0</td>\n",
              "      <td>31468.0</td>\n",
              "      <td>3809.0</td>\n",
              "      <td>202</td>\n",
              "      <td>NaN</td>\n",
              "      <td>882.0</td>\n",
              "      <td>2148190.0</td>\n",
              "      <td>11008</td>\n",
              "      <td>NaN</td>\n",
              "      <td>NaN</td>\n",
              "      <td>NaN</td>\n",
              "      <td>NaN</td>\n",
              "      <td>602.0</td>\n",
              "      <td>429219.0</td>\n",
              "      <td>412450.0</td>\n",
              "      <td>4837</td>\n",
              "      <td>0</td>\n",
              "      <td>NaN</td>\n",
              "      <td>NaN</td>\n",
              "      <td>NaN</td>\n",
              "      <td>NaN</td>\n",
              "      <td>NaN</td>\n",
              "      <td>63697.0</td>\n",
              "      <td>NaN</td>\n",
              "      <td>0</td>\n",
              "      <td>4409083.0</td>\n",
              "      <td>34631</td>\n",
              "      <td>379855.0</td>\n",
              "      <td>NaN</td>\n",
              "      <td>NaN</td>\n",
              "      <td>NaN</td>\n",
              "      <td>2560640.0</td>\n",
              "      <td>15314</td>\n",
              "      <td>4409083.0</td>\n",
              "      <td>34631</td>\n",
              "    </tr>\n",
              "  </tbody>\n",
              "</table>\n",
              "</div>"
            ],
            "text/plain": [
              "         date state  ... totalTestsViral  totalTestsViralIncrease\n",
              "0  2020-12-16    AK  ...       1166145.0                     8278\n",
              "1  2020-12-16    AL  ...             NaN                        0\n",
              "2  2020-12-16    AR  ...       1886088.0                    11617\n",
              "3  2020-12-16    AS  ...          2140.0                        0\n",
              "4  2020-12-16    AZ  ...       4409083.0                    34631\n",
              "\n",
              "[5 rows x 42 columns]"
            ]
          },
          "metadata": {
            "tags": []
          },
          "execution_count": 6
        }
      ]
    },
    {
      "cell_type": "code",
      "metadata": {
        "colab": {
          "base_uri": "https://localhost:8080/"
        },
        "id": "Xnit7fgalmA9",
        "outputId": "8f7fbeaf-5e58-49f5-b06d-070a4215228d"
      },
      "source": [
        "states=[]\r\n",
        "for i in range(56):\r\n",
        "  rows=df.loc[i]\r\n",
        "  states.append(rows['state'])\r\n",
        "print(states)"
      ],
      "execution_count": null,
      "outputs": [
        {
          "output_type": "stream",
          "text": [
            "['AK', 'AL', 'AR', 'AS', 'AZ', 'CA', 'CO', 'CT', 'DC', 'DE', 'FL', 'GA', 'GU', 'HI', 'IA', 'ID', 'IL', 'IN', 'KS', 'KY', 'LA', 'MA', 'MD', 'ME', 'MI', 'MN', 'MO', 'MP', 'MS', 'MT', 'NC', 'ND', 'NE', 'NH', 'NJ', 'NM', 'NV', 'NY', 'OH', 'OK', 'OR', 'PA', 'PR', 'RI', 'SC', 'SD', 'TN', 'TX', 'UT', 'VA', 'VI', 'VT', 'WA', 'WI', 'WV', 'WY']\n"
          ],
          "name": "stdout"
        }
      ]
    },
    {
      "cell_type": "code",
      "metadata": {
        "id": "HZtE4h520-Wd"
      },
      "source": [
        "#practicing parsing\r\n",
        "df_AZ=df[df[\"state\"]=='AZ']"
      ],
      "execution_count": null,
      "outputs": []
    },
    {
      "cell_type": "code",
      "metadata": {
        "colab": {
          "base_uri": "https://localhost:8080/",
          "height": 309
        },
        "id": "XYn2Dzvm2ou5",
        "outputId": "7504a60d-2876-404f-f815-c89a979385c1"
      },
      "source": [
        "df_AZ.head()"
      ],
      "execution_count": null,
      "outputs": [
        {
          "output_type": "execute_result",
          "data": {
            "text/html": [
              "<div>\n",
              "<style scoped>\n",
              "    .dataframe tbody tr th:only-of-type {\n",
              "        vertical-align: middle;\n",
              "    }\n",
              "\n",
              "    .dataframe tbody tr th {\n",
              "        vertical-align: top;\n",
              "    }\n",
              "\n",
              "    .dataframe thead th {\n",
              "        text-align: right;\n",
              "    }\n",
              "</style>\n",
              "<table border=\"1\" class=\"dataframe\">\n",
              "  <thead>\n",
              "    <tr style=\"text-align: right;\">\n",
              "      <th></th>\n",
              "      <th>date</th>\n",
              "      <th>state</th>\n",
              "      <th>dataQualityGrade</th>\n",
              "      <th>death</th>\n",
              "      <th>deathConfirmed</th>\n",
              "      <th>deathIncrease</th>\n",
              "      <th>deathProbable</th>\n",
              "      <th>hospitalized</th>\n",
              "      <th>hospitalizedCumulative</th>\n",
              "      <th>hospitalizedCurrently</th>\n",
              "      <th>hospitalizedIncrease</th>\n",
              "      <th>inIcuCumulative</th>\n",
              "      <th>inIcuCurrently</th>\n",
              "      <th>negative</th>\n",
              "      <th>negativeIncrease</th>\n",
              "      <th>negativeTestsAntibody</th>\n",
              "      <th>negativeTestsPeopleAntibody</th>\n",
              "      <th>negativeTestsViral</th>\n",
              "      <th>onVentilatorCumulative</th>\n",
              "      <th>onVentilatorCurrently</th>\n",
              "      <th>positive</th>\n",
              "      <th>positiveCasesViral</th>\n",
              "      <th>positiveIncrease</th>\n",
              "      <th>positiveScore</th>\n",
              "      <th>positiveTestsAntibody</th>\n",
              "      <th>positiveTestsAntigen</th>\n",
              "      <th>positiveTestsPeopleAntibody</th>\n",
              "      <th>positiveTestsPeopleAntigen</th>\n",
              "      <th>positiveTestsViral</th>\n",
              "      <th>recovered</th>\n",
              "      <th>totalTestEncountersViral</th>\n",
              "      <th>totalTestEncountersViralIncrease</th>\n",
              "      <th>totalTestResults</th>\n",
              "      <th>totalTestResultsIncrease</th>\n",
              "      <th>totalTestsAntibody</th>\n",
              "      <th>totalTestsAntigen</th>\n",
              "      <th>totalTestsPeopleAntibody</th>\n",
              "      <th>totalTestsPeopleAntigen</th>\n",
              "      <th>totalTestsPeopleViral</th>\n",
              "      <th>totalTestsPeopleViralIncrease</th>\n",
              "      <th>totalTestsViral</th>\n",
              "      <th>totalTestsViralIncrease</th>\n",
              "    </tr>\n",
              "  </thead>\n",
              "  <tbody>\n",
              "    <tr>\n",
              "      <th>4</th>\n",
              "      <td>2020-12-16</td>\n",
              "      <td>AZ</td>\n",
              "      <td>A+</td>\n",
              "      <td>7530.0</td>\n",
              "      <td>6919.0</td>\n",
              "      <td>108</td>\n",
              "      <td>611.0</td>\n",
              "      <td>31468.0</td>\n",
              "      <td>31468.0</td>\n",
              "      <td>3809.0</td>\n",
              "      <td>202</td>\n",
              "      <td>NaN</td>\n",
              "      <td>882.0</td>\n",
              "      <td>2148190.0</td>\n",
              "      <td>11008</td>\n",
              "      <td>NaN</td>\n",
              "      <td>NaN</td>\n",
              "      <td>NaN</td>\n",
              "      <td>NaN</td>\n",
              "      <td>602.0</td>\n",
              "      <td>429219.0</td>\n",
              "      <td>412450.0</td>\n",
              "      <td>4837</td>\n",
              "      <td>0</td>\n",
              "      <td>NaN</td>\n",
              "      <td>NaN</td>\n",
              "      <td>NaN</td>\n",
              "      <td>NaN</td>\n",
              "      <td>NaN</td>\n",
              "      <td>63697.0</td>\n",
              "      <td>NaN</td>\n",
              "      <td>0</td>\n",
              "      <td>4409083.0</td>\n",
              "      <td>34631</td>\n",
              "      <td>379855.0</td>\n",
              "      <td>NaN</td>\n",
              "      <td>NaN</td>\n",
              "      <td>NaN</td>\n",
              "      <td>2560640.0</td>\n",
              "      <td>15314</td>\n",
              "      <td>4409083.0</td>\n",
              "      <td>34631</td>\n",
              "    </tr>\n",
              "    <tr>\n",
              "      <th>60</th>\n",
              "      <td>2020-12-15</td>\n",
              "      <td>AZ</td>\n",
              "      <td>A+</td>\n",
              "      <td>7422.0</td>\n",
              "      <td>6835.0</td>\n",
              "      <td>64</td>\n",
              "      <td>587.0</td>\n",
              "      <td>31266.0</td>\n",
              "      <td>31266.0</td>\n",
              "      <td>3702.0</td>\n",
              "      <td>124</td>\n",
              "      <td>NaN</td>\n",
              "      <td>863.0</td>\n",
              "      <td>2137182.0</td>\n",
              "      <td>10254</td>\n",
              "      <td>NaN</td>\n",
              "      <td>NaN</td>\n",
              "      <td>NaN</td>\n",
              "      <td>NaN</td>\n",
              "      <td>579.0</td>\n",
              "      <td>424382.0</td>\n",
              "      <td>408144.0</td>\n",
              "      <td>4134</td>\n",
              "      <td>0</td>\n",
              "      <td>NaN</td>\n",
              "      <td>NaN</td>\n",
              "      <td>NaN</td>\n",
              "      <td>NaN</td>\n",
              "      <td>NaN</td>\n",
              "      <td>62839.0</td>\n",
              "      <td>NaN</td>\n",
              "      <td>0</td>\n",
              "      <td>4374452.0</td>\n",
              "      <td>29759</td>\n",
              "      <td>378518.0</td>\n",
              "      <td>NaN</td>\n",
              "      <td>NaN</td>\n",
              "      <td>NaN</td>\n",
              "      <td>2545326.0</td>\n",
              "      <td>14104</td>\n",
              "      <td>4374452.0</td>\n",
              "      <td>29759</td>\n",
              "    </tr>\n",
              "    <tr>\n",
              "      <th>116</th>\n",
              "      <td>2020-12-14</td>\n",
              "      <td>AZ</td>\n",
              "      <td>A+</td>\n",
              "      <td>7358.0</td>\n",
              "      <td>6782.0</td>\n",
              "      <td>1</td>\n",
              "      <td>576.0</td>\n",
              "      <td>31142.0</td>\n",
              "      <td>31142.0</td>\n",
              "      <td>3677.0</td>\n",
              "      <td>193</td>\n",
              "      <td>NaN</td>\n",
              "      <td>829.0</td>\n",
              "      <td>2126928.0</td>\n",
              "      <td>7223</td>\n",
              "      <td>NaN</td>\n",
              "      <td>NaN</td>\n",
              "      <td>NaN</td>\n",
              "      <td>NaN</td>\n",
              "      <td>542.0</td>\n",
              "      <td>420248.0</td>\n",
              "      <td>404294.0</td>\n",
              "      <td>11806</td>\n",
              "      <td>0</td>\n",
              "      <td>NaN</td>\n",
              "      <td>NaN</td>\n",
              "      <td>NaN</td>\n",
              "      <td>NaN</td>\n",
              "      <td>NaN</td>\n",
              "      <td>62118.0</td>\n",
              "      <td>NaN</td>\n",
              "      <td>0</td>\n",
              "      <td>4344693.0</td>\n",
              "      <td>38805</td>\n",
              "      <td>377958.0</td>\n",
              "      <td>NaN</td>\n",
              "      <td>NaN</td>\n",
              "      <td>NaN</td>\n",
              "      <td>2531222.0</td>\n",
              "      <td>18526</td>\n",
              "      <td>4344693.0</td>\n",
              "      <td>38805</td>\n",
              "    </tr>\n",
              "    <tr>\n",
              "      <th>172</th>\n",
              "      <td>2020-12-13</td>\n",
              "      <td>AZ</td>\n",
              "      <td>A+</td>\n",
              "      <td>7357.0</td>\n",
              "      <td>6779.0</td>\n",
              "      <td>35</td>\n",
              "      <td>578.0</td>\n",
              "      <td>30949.0</td>\n",
              "      <td>30949.0</td>\n",
              "      <td>3622.0</td>\n",
              "      <td>262</td>\n",
              "      <td>NaN</td>\n",
              "      <td>831.0</td>\n",
              "      <td>2119705.0</td>\n",
              "      <td>20540</td>\n",
              "      <td>NaN</td>\n",
              "      <td>NaN</td>\n",
              "      <td>NaN</td>\n",
              "      <td>NaN</td>\n",
              "      <td>537.0</td>\n",
              "      <td>408442.0</td>\n",
              "      <td>392991.0</td>\n",
              "      <td>5853</td>\n",
              "      <td>0</td>\n",
              "      <td>NaN</td>\n",
              "      <td>NaN</td>\n",
              "      <td>NaN</td>\n",
              "      <td>NaN</td>\n",
              "      <td>NaN</td>\n",
              "      <td>61399.0</td>\n",
              "      <td>NaN</td>\n",
              "      <td>0</td>\n",
              "      <td>4305888.0</td>\n",
              "      <td>60734</td>\n",
              "      <td>376908.0</td>\n",
              "      <td>NaN</td>\n",
              "      <td>NaN</td>\n",
              "      <td>NaN</td>\n",
              "      <td>2512696.0</td>\n",
              "      <td>25833</td>\n",
              "      <td>4305888.0</td>\n",
              "      <td>60734</td>\n",
              "    </tr>\n",
              "    <tr>\n",
              "      <th>228</th>\n",
              "      <td>2020-12-12</td>\n",
              "      <td>AZ</td>\n",
              "      <td>A+</td>\n",
              "      <td>7322.0</td>\n",
              "      <td>6749.0</td>\n",
              "      <td>77</td>\n",
              "      <td>573.0</td>\n",
              "      <td>30687.0</td>\n",
              "      <td>30687.0</td>\n",
              "      <td>3534.0</td>\n",
              "      <td>385</td>\n",
              "      <td>NaN</td>\n",
              "      <td>799.0</td>\n",
              "      <td>2099165.0</td>\n",
              "      <td>18295</td>\n",
              "      <td>NaN</td>\n",
              "      <td>NaN</td>\n",
              "      <td>NaN</td>\n",
              "      <td>NaN</td>\n",
              "      <td>515.0</td>\n",
              "      <td>402589.0</td>\n",
              "      <td>387698.0</td>\n",
              "      <td>8077</td>\n",
              "      <td>0</td>\n",
              "      <td>NaN</td>\n",
              "      <td>NaN</td>\n",
              "      <td>NaN</td>\n",
              "      <td>NaN</td>\n",
              "      <td>NaN</td>\n",
              "      <td>60646.0</td>\n",
              "      <td>NaN</td>\n",
              "      <td>0</td>\n",
              "      <td>4245154.0</td>\n",
              "      <td>57294</td>\n",
              "      <td>375676.0</td>\n",
              "      <td>NaN</td>\n",
              "      <td>NaN</td>\n",
              "      <td>NaN</td>\n",
              "      <td>2486863.0</td>\n",
              "      <td>26042</td>\n",
              "      <td>4245154.0</td>\n",
              "      <td>57294</td>\n",
              "    </tr>\n",
              "  </tbody>\n",
              "</table>\n",
              "</div>"
            ],
            "text/plain": [
              "           date state  ... totalTestsViral  totalTestsViralIncrease\n",
              "4    2020-12-16    AZ  ...       4409083.0                    34631\n",
              "60   2020-12-15    AZ  ...       4374452.0                    29759\n",
              "116  2020-12-14    AZ  ...       4344693.0                    38805\n",
              "172  2020-12-13    AZ  ...       4305888.0                    60734\n",
              "228  2020-12-12    AZ  ...       4245154.0                    57294\n",
              "\n",
              "[5 rows x 42 columns]"
            ]
          },
          "metadata": {
            "tags": []
          },
          "execution_count": 31
        }
      ]
    },
    {
      "cell_type": "code",
      "metadata": {
        "colab": {
          "base_uri": "https://localhost:8080/"
        },
        "id": "h44qnz8V192G",
        "outputId": "d115328f-920f-48b2-b01f-698578b67365"
      },
      "source": [
        "#attempt to make dataframe for each state\r\n",
        "for i in range(56):\r\n",
        "  a=states[i]\r\n",
        "  name='df_'+a\r\n",
        "  print(name)\r\n",
        "  name=df[df['state']==a]"
      ],
      "execution_count": null,
      "outputs": [
        {
          "output_type": "stream",
          "text": [
            "df_AK\n",
            "df_AL\n",
            "df_AR\n",
            "df_AS\n",
            "df_AZ\n",
            "df_CA\n",
            "df_CO\n",
            "df_CT\n",
            "df_DC\n",
            "df_DE\n",
            "df_FL\n",
            "df_GA\n",
            "df_GU\n",
            "df_HI\n",
            "df_IA\n",
            "df_ID\n",
            "df_IL\n",
            "df_IN\n",
            "df_KS\n",
            "df_KY\n",
            "df_LA\n",
            "df_MA\n",
            "df_MD\n",
            "df_ME\n",
            "df_MI\n",
            "df_MN\n",
            "df_MO\n",
            "df_MP\n",
            "df_MS\n",
            "df_MT\n",
            "df_NC\n",
            "df_ND\n",
            "df_NE\n",
            "df_NH\n",
            "df_NJ\n",
            "df_NM\n",
            "df_NV\n",
            "df_NY\n",
            "df_OH\n",
            "df_OK\n",
            "df_OR\n",
            "df_PA\n",
            "df_PR\n",
            "df_RI\n",
            "df_SC\n",
            "df_SD\n",
            "df_TN\n",
            "df_TX\n",
            "df_UT\n",
            "df_VA\n",
            "df_VI\n",
            "df_VT\n",
            "df_WA\n",
            "df_WI\n",
            "df_WV\n",
            "df_WY\n"
          ],
          "name": "stdout"
        }
      ]
    },
    {
      "cell_type": "code",
      "metadata": {
        "colab": {
          "base_uri": "https://localhost:8080/",
          "height": 309
        },
        "id": "3XwbtIgV6Af-",
        "outputId": "304403d1-a65d-466c-f2d8-94717a70f4a2"
      },
      "source": [
        "df_AZ.head()"
      ],
      "execution_count": null,
      "outputs": [
        {
          "output_type": "execute_result",
          "data": {
            "text/html": [
              "<div>\n",
              "<style scoped>\n",
              "    .dataframe tbody tr th:only-of-type {\n",
              "        vertical-align: middle;\n",
              "    }\n",
              "\n",
              "    .dataframe tbody tr th {\n",
              "        vertical-align: top;\n",
              "    }\n",
              "\n",
              "    .dataframe thead th {\n",
              "        text-align: right;\n",
              "    }\n",
              "</style>\n",
              "<table border=\"1\" class=\"dataframe\">\n",
              "  <thead>\n",
              "    <tr style=\"text-align: right;\">\n",
              "      <th></th>\n",
              "      <th>date</th>\n",
              "      <th>state</th>\n",
              "      <th>dataQualityGrade</th>\n",
              "      <th>death</th>\n",
              "      <th>deathConfirmed</th>\n",
              "      <th>deathIncrease</th>\n",
              "      <th>deathProbable</th>\n",
              "      <th>hospitalized</th>\n",
              "      <th>hospitalizedCumulative</th>\n",
              "      <th>hospitalizedCurrently</th>\n",
              "      <th>hospitalizedIncrease</th>\n",
              "      <th>inIcuCumulative</th>\n",
              "      <th>inIcuCurrently</th>\n",
              "      <th>negative</th>\n",
              "      <th>negativeIncrease</th>\n",
              "      <th>negativeTestsAntibody</th>\n",
              "      <th>negativeTestsPeopleAntibody</th>\n",
              "      <th>negativeTestsViral</th>\n",
              "      <th>onVentilatorCumulative</th>\n",
              "      <th>onVentilatorCurrently</th>\n",
              "      <th>positive</th>\n",
              "      <th>positiveCasesViral</th>\n",
              "      <th>positiveIncrease</th>\n",
              "      <th>positiveScore</th>\n",
              "      <th>positiveTestsAntibody</th>\n",
              "      <th>positiveTestsAntigen</th>\n",
              "      <th>positiveTestsPeopleAntibody</th>\n",
              "      <th>positiveTestsPeopleAntigen</th>\n",
              "      <th>positiveTestsViral</th>\n",
              "      <th>recovered</th>\n",
              "      <th>totalTestEncountersViral</th>\n",
              "      <th>totalTestEncountersViralIncrease</th>\n",
              "      <th>totalTestResults</th>\n",
              "      <th>totalTestResultsIncrease</th>\n",
              "      <th>totalTestsAntibody</th>\n",
              "      <th>totalTestsAntigen</th>\n",
              "      <th>totalTestsPeopleAntibody</th>\n",
              "      <th>totalTestsPeopleAntigen</th>\n",
              "      <th>totalTestsPeopleViral</th>\n",
              "      <th>totalTestsPeopleViralIncrease</th>\n",
              "      <th>totalTestsViral</th>\n",
              "      <th>totalTestsViralIncrease</th>\n",
              "    </tr>\n",
              "  </thead>\n",
              "  <tbody>\n",
              "    <tr>\n",
              "      <th>4</th>\n",
              "      <td>2020-12-16</td>\n",
              "      <td>AZ</td>\n",
              "      <td>A+</td>\n",
              "      <td>7530.0</td>\n",
              "      <td>6919.0</td>\n",
              "      <td>108</td>\n",
              "      <td>611.0</td>\n",
              "      <td>31468.0</td>\n",
              "      <td>31468.0</td>\n",
              "      <td>3809.0</td>\n",
              "      <td>202</td>\n",
              "      <td>NaN</td>\n",
              "      <td>882.0</td>\n",
              "      <td>2148190.0</td>\n",
              "      <td>11008</td>\n",
              "      <td>NaN</td>\n",
              "      <td>NaN</td>\n",
              "      <td>NaN</td>\n",
              "      <td>NaN</td>\n",
              "      <td>602.0</td>\n",
              "      <td>429219.0</td>\n",
              "      <td>412450.0</td>\n",
              "      <td>4837</td>\n",
              "      <td>0</td>\n",
              "      <td>NaN</td>\n",
              "      <td>NaN</td>\n",
              "      <td>NaN</td>\n",
              "      <td>NaN</td>\n",
              "      <td>NaN</td>\n",
              "      <td>63697.0</td>\n",
              "      <td>NaN</td>\n",
              "      <td>0</td>\n",
              "      <td>4409083.0</td>\n",
              "      <td>34631</td>\n",
              "      <td>379855.0</td>\n",
              "      <td>NaN</td>\n",
              "      <td>NaN</td>\n",
              "      <td>NaN</td>\n",
              "      <td>2560640.0</td>\n",
              "      <td>15314</td>\n",
              "      <td>4409083.0</td>\n",
              "      <td>34631</td>\n",
              "    </tr>\n",
              "    <tr>\n",
              "      <th>60</th>\n",
              "      <td>2020-12-15</td>\n",
              "      <td>AZ</td>\n",
              "      <td>A+</td>\n",
              "      <td>7422.0</td>\n",
              "      <td>6835.0</td>\n",
              "      <td>64</td>\n",
              "      <td>587.0</td>\n",
              "      <td>31266.0</td>\n",
              "      <td>31266.0</td>\n",
              "      <td>3702.0</td>\n",
              "      <td>124</td>\n",
              "      <td>NaN</td>\n",
              "      <td>863.0</td>\n",
              "      <td>2137182.0</td>\n",
              "      <td>10254</td>\n",
              "      <td>NaN</td>\n",
              "      <td>NaN</td>\n",
              "      <td>NaN</td>\n",
              "      <td>NaN</td>\n",
              "      <td>579.0</td>\n",
              "      <td>424382.0</td>\n",
              "      <td>408144.0</td>\n",
              "      <td>4134</td>\n",
              "      <td>0</td>\n",
              "      <td>NaN</td>\n",
              "      <td>NaN</td>\n",
              "      <td>NaN</td>\n",
              "      <td>NaN</td>\n",
              "      <td>NaN</td>\n",
              "      <td>62839.0</td>\n",
              "      <td>NaN</td>\n",
              "      <td>0</td>\n",
              "      <td>4374452.0</td>\n",
              "      <td>29759</td>\n",
              "      <td>378518.0</td>\n",
              "      <td>NaN</td>\n",
              "      <td>NaN</td>\n",
              "      <td>NaN</td>\n",
              "      <td>2545326.0</td>\n",
              "      <td>14104</td>\n",
              "      <td>4374452.0</td>\n",
              "      <td>29759</td>\n",
              "    </tr>\n",
              "    <tr>\n",
              "      <th>116</th>\n",
              "      <td>2020-12-14</td>\n",
              "      <td>AZ</td>\n",
              "      <td>A+</td>\n",
              "      <td>7358.0</td>\n",
              "      <td>6782.0</td>\n",
              "      <td>1</td>\n",
              "      <td>576.0</td>\n",
              "      <td>31142.0</td>\n",
              "      <td>31142.0</td>\n",
              "      <td>3677.0</td>\n",
              "      <td>193</td>\n",
              "      <td>NaN</td>\n",
              "      <td>829.0</td>\n",
              "      <td>2126928.0</td>\n",
              "      <td>7223</td>\n",
              "      <td>NaN</td>\n",
              "      <td>NaN</td>\n",
              "      <td>NaN</td>\n",
              "      <td>NaN</td>\n",
              "      <td>542.0</td>\n",
              "      <td>420248.0</td>\n",
              "      <td>404294.0</td>\n",
              "      <td>11806</td>\n",
              "      <td>0</td>\n",
              "      <td>NaN</td>\n",
              "      <td>NaN</td>\n",
              "      <td>NaN</td>\n",
              "      <td>NaN</td>\n",
              "      <td>NaN</td>\n",
              "      <td>62118.0</td>\n",
              "      <td>NaN</td>\n",
              "      <td>0</td>\n",
              "      <td>4344693.0</td>\n",
              "      <td>38805</td>\n",
              "      <td>377958.0</td>\n",
              "      <td>NaN</td>\n",
              "      <td>NaN</td>\n",
              "      <td>NaN</td>\n",
              "      <td>2531222.0</td>\n",
              "      <td>18526</td>\n",
              "      <td>4344693.0</td>\n",
              "      <td>38805</td>\n",
              "    </tr>\n",
              "    <tr>\n",
              "      <th>172</th>\n",
              "      <td>2020-12-13</td>\n",
              "      <td>AZ</td>\n",
              "      <td>A+</td>\n",
              "      <td>7357.0</td>\n",
              "      <td>6779.0</td>\n",
              "      <td>35</td>\n",
              "      <td>578.0</td>\n",
              "      <td>30949.0</td>\n",
              "      <td>30949.0</td>\n",
              "      <td>3622.0</td>\n",
              "      <td>262</td>\n",
              "      <td>NaN</td>\n",
              "      <td>831.0</td>\n",
              "      <td>2119705.0</td>\n",
              "      <td>20540</td>\n",
              "      <td>NaN</td>\n",
              "      <td>NaN</td>\n",
              "      <td>NaN</td>\n",
              "      <td>NaN</td>\n",
              "      <td>537.0</td>\n",
              "      <td>408442.0</td>\n",
              "      <td>392991.0</td>\n",
              "      <td>5853</td>\n",
              "      <td>0</td>\n",
              "      <td>NaN</td>\n",
              "      <td>NaN</td>\n",
              "      <td>NaN</td>\n",
              "      <td>NaN</td>\n",
              "      <td>NaN</td>\n",
              "      <td>61399.0</td>\n",
              "      <td>NaN</td>\n",
              "      <td>0</td>\n",
              "      <td>4305888.0</td>\n",
              "      <td>60734</td>\n",
              "      <td>376908.0</td>\n",
              "      <td>NaN</td>\n",
              "      <td>NaN</td>\n",
              "      <td>NaN</td>\n",
              "      <td>2512696.0</td>\n",
              "      <td>25833</td>\n",
              "      <td>4305888.0</td>\n",
              "      <td>60734</td>\n",
              "    </tr>\n",
              "    <tr>\n",
              "      <th>228</th>\n",
              "      <td>2020-12-12</td>\n",
              "      <td>AZ</td>\n",
              "      <td>A+</td>\n",
              "      <td>7322.0</td>\n",
              "      <td>6749.0</td>\n",
              "      <td>77</td>\n",
              "      <td>573.0</td>\n",
              "      <td>30687.0</td>\n",
              "      <td>30687.0</td>\n",
              "      <td>3534.0</td>\n",
              "      <td>385</td>\n",
              "      <td>NaN</td>\n",
              "      <td>799.0</td>\n",
              "      <td>2099165.0</td>\n",
              "      <td>18295</td>\n",
              "      <td>NaN</td>\n",
              "      <td>NaN</td>\n",
              "      <td>NaN</td>\n",
              "      <td>NaN</td>\n",
              "      <td>515.0</td>\n",
              "      <td>402589.0</td>\n",
              "      <td>387698.0</td>\n",
              "      <td>8077</td>\n",
              "      <td>0</td>\n",
              "      <td>NaN</td>\n",
              "      <td>NaN</td>\n",
              "      <td>NaN</td>\n",
              "      <td>NaN</td>\n",
              "      <td>NaN</td>\n",
              "      <td>60646.0</td>\n",
              "      <td>NaN</td>\n",
              "      <td>0</td>\n",
              "      <td>4245154.0</td>\n",
              "      <td>57294</td>\n",
              "      <td>375676.0</td>\n",
              "      <td>NaN</td>\n",
              "      <td>NaN</td>\n",
              "      <td>NaN</td>\n",
              "      <td>2486863.0</td>\n",
              "      <td>26042</td>\n",
              "      <td>4245154.0</td>\n",
              "      <td>57294</td>\n",
              "    </tr>\n",
              "  </tbody>\n",
              "</table>\n",
              "</div>"
            ],
            "text/plain": [
              "           date state  ... totalTestsViral  totalTestsViralIncrease\n",
              "4    2020-12-16    AZ  ...       4409083.0                    34631\n",
              "60   2020-12-15    AZ  ...       4374452.0                    29759\n",
              "116  2020-12-14    AZ  ...       4344693.0                    38805\n",
              "172  2020-12-13    AZ  ...       4305888.0                    60734\n",
              "228  2020-12-12    AZ  ...       4245154.0                    57294\n",
              "\n",
              "[5 rows x 42 columns]"
            ]
          },
          "metadata": {
            "tags": []
          },
          "execution_count": 37
        }
      ]
    },
    {
      "cell_type": "code",
      "metadata": {
        "id": "oeVKATeLBSKw"
      },
      "source": [
        "state_cases={}\r\n",
        "state_pos={}\r\n"
      ],
      "execution_count": null,
      "outputs": []
    },
    {
      "cell_type": "code",
      "metadata": {
        "id": "a4SXLfJEFZ10"
      },
      "source": [
        "for i in range(56):\r\n",
        "  a=states[i]\r\n",
        "  state_cases[a]=[]\r\n",
        "  state_pos[a]=[]"
      ],
      "execution_count": null,
      "outputs": []
    },
    {
      "cell_type": "code",
      "metadata": {
        "colab": {
          "base_uri": "https://localhost:8080/"
        },
        "id": "CvLTUPARFiZo",
        "outputId": "b09bb3ad-3eed-4965-b633-ced8960006aa"
      },
      "source": [
        "print(state_cases)"
      ],
      "execution_count": null,
      "outputs": [
        {
          "output_type": "stream",
          "text": [
            "{'AK': [], 'AL': [], 'AR': [], 'AS': [], 'AZ': [], 'CA': [], 'CO': [], 'CT': [], 'DC': [], 'DE': [], 'FL': [], 'GA': [], 'GU': [], 'HI': [], 'IA': [], 'ID': [], 'IL': [], 'IN': [], 'KS': [], 'KY': [], 'LA': [], 'MA': [], 'MD': [], 'ME': [], 'MI': [], 'MN': [], 'MO': [], 'MP': [], 'MS': [], 'MT': [], 'NC': [], 'ND': [], 'NE': [], 'NH': [], 'NJ': [], 'NM': [], 'NV': [], 'NY': [], 'OH': [], 'OK': [], 'OR': [], 'PA': [], 'PR': [], 'RI': [], 'SC': [], 'SD': [], 'TN': [], 'TX': [], 'UT': [], 'VA': [], 'VI': [], 'VT': [], 'WA': [], 'WI': [], 'WV': [], 'WY': []}\n"
          ],
          "name": "stdout"
        }
      ]
    },
    {
      "cell_type": "code",
      "metadata": {
        "id": "x4N0ZtkiHbx2"
      },
      "source": [
        "#Trying to add different column from one indexed\r\n",
        "#for i in range(16196):\r\n",
        "#  if df[\"state\"]==\"AZ\":\r\n",
        "#    state_cases[AZ].append(df['positiveIncrease'])"
      ],
      "execution_count": null,
      "outputs": []
    },
    {
      "cell_type": "code",
      "metadata": {
        "colab": {
          "base_uri": "https://localhost:8080/"
        },
        "id": "mFioVa57KNfj",
        "outputId": "e1dea49c-56d0-4868-d471-b30ad0564036"
      },
      "source": [
        "cases=[]\r\n",
        "for i in range(56):\r\n",
        "  rows=df.loc[i]\r\n",
        "  cases.append(rows['positive'])\r\n",
        "print(cases)"
      ],
      "execution_count": null,
      "outputs": [
        {
          "output_type": "stream",
          "text": [
            "[41041.0, 305640.0, 191504.0, 0.0, 429219.0, 1671081.0, 296716.0, 157781.0, 25602.0, 47929.0, 1136024.0, 488338.0, 7168.0, 19954.0, 225050.0, 124019.0, 870600.0, 440850.0, 194569.0, 230693.0, 275545.0, 304112.0, 241767.0, 17311.0, 482815.0, 386412.0, 353038.0, 113.0, 185643.0, 74644.0, 451874.0, 88686.0, 150861.0, 33433.0, 415075.0, 124357.0, 194098.0, 804555.0, 584766.0, 245229.0, 96092.0, 519369.0, 63686.0, 76209.0, 260119.0, 92603.0, 484285.0, 1519340.0, 240715.0, 292240.0, 1828.0, 6009.0, 205069.0, 478162.0, 66849.0, 40310.0]\n"
          ],
          "name": "stdout"
        }
      ]
    },
    {
      "cell_type": "code",
      "metadata": {
        "id": "_TgxyleTKmed"
      },
      "source": [
        "case_by_state={}\r\n",
        "for i in range(56):\r\n",
        "  case_by_state[states[i]]=cases[i]"
      ],
      "execution_count": null,
      "outputs": []
    },
    {
      "cell_type": "code",
      "metadata": {
        "colab": {
          "base_uri": "https://localhost:8080/"
        },
        "id": "gugxY0R6Lbdy",
        "outputId": "f107f588-2d81-498e-a154-39d070cd3e6a"
      },
      "source": [
        "print(case_by_state)"
      ],
      "execution_count": null,
      "outputs": [
        {
          "output_type": "stream",
          "text": [
            "{'AK': 41041.0, 'AL': 305640.0, 'AR': 191504.0, 'AS': 0.0, 'AZ': 429219.0, 'CA': 1671081.0, 'CO': 296716.0, 'CT': 157781.0, 'DC': 25602.0, 'DE': 47929.0, 'FL': 1136024.0, 'GA': 488338.0, 'GU': 7168.0, 'HI': 19954.0, 'IA': 225050.0, 'ID': 124019.0, 'IL': 870600.0, 'IN': 440850.0, 'KS': 194569.0, 'KY': 230693.0, 'LA': 275545.0, 'MA': 304112.0, 'MD': 241767.0, 'ME': 17311.0, 'MI': 482815.0, 'MN': 386412.0, 'MO': 353038.0, 'MP': 113.0, 'MS': 185643.0, 'MT': 74644.0, 'NC': 451874.0, 'ND': 88686.0, 'NE': 150861.0, 'NH': 33433.0, 'NJ': 415075.0, 'NM': 124357.0, 'NV': 194098.0, 'NY': 804555.0, 'OH': 584766.0, 'OK': 245229.0, 'OR': 96092.0, 'PA': 519369.0, 'PR': 63686.0, 'RI': 76209.0, 'SC': 260119.0, 'SD': 92603.0, 'TN': 484285.0, 'TX': 1519340.0, 'UT': 240715.0, 'VA': 292240.0, 'VI': 1828.0, 'VT': 6009.0, 'WA': 205069.0, 'WI': 478162.0, 'WV': 66849.0, 'WY': 40310.0}\n"
          ],
          "name": "stdout"
        }
      ]
    },
    {
      "cell_type": "code",
      "metadata": {
        "colab": {
          "base_uri": "https://localhost:8080/"
        },
        "id": "KI2LjHopLz_F",
        "outputId": "6f0b8a78-ba0d-450d-cf4c-146724841238"
      },
      "source": [
        "pos_rate=[]\r\n",
        "for i in range(56):\r\n",
        "  rows=df.loc[i]\r\n",
        "  rate=rows['positive']*100/rows['negative']\r\n",
        "  pos_rate.append(rate)\r\n",
        "print(pos_rate)"
      ],
      "execution_count": null,
      "outputs": [
        {
          "output_type": "stream",
          "text": [
            "[3.647751674511867, 20.495158853574683, 11.115483690472459, 0.0, 19.980495207593368, 6.3110842079514375, 17.441437374391096, 4.249867343997888, 3.312948215935589, 11.26246581007792, 16.521493412557263, 11.279133955566026, 8.458116511498933, 6.760561471507997, 24.836337310678797, 30.411423134643112, 7.783855928748303, 21.816567625668576, 26.88546019323031, 8.381521581165527, 7.679438185462564, 8.879786566502188, 10.219059244819185, 1.7470558611801583, 6.846714926849633, 15.978061446639522, 22.152668795520245, 0.6483447128349303, 17.194579775114388, 11.285501538368498, 7.945776407159452, 31.77069899406758, 23.09730936348855, 7.59991180074242, 6.355906249712888, 7.568663419455635, 21.797204179356566, 3.712293782796704, 9.058130462321454, 11.36036304390224, 4.275247415506781, 16.82952270193149, 20.814322879217706, 14.78382661899672, 10.27506809056094, 35.20879354855881, 10.354603226596867, 13.82180179222921, 19.50037750767167, 8.283136798736555, 6.130936409981218, 2.5019881833209117, 6.395202156048434, 21.09562122982863, 5.2080728284114945, 26.480886594010105]\n"
          ],
          "name": "stdout"
        }
      ]
    },
    {
      "cell_type": "code",
      "metadata": {
        "id": "t90mtNYgMl3r"
      },
      "source": [
        "pos_rate_by_state={}\r\n",
        "for i in range(56):\r\n",
        "  pos_rate_by_state[states[i]]=pos_rate[i]"
      ],
      "execution_count": null,
      "outputs": []
    },
    {
      "cell_type": "code",
      "metadata": {
        "colab": {
          "base_uri": "https://localhost:8080/"
        },
        "id": "UbR6HhAHMtXt",
        "outputId": "10edea8d-f780-4291-f1c8-4ae262776f03"
      },
      "source": [
        "print(pos_rate_by_state)"
      ],
      "execution_count": null,
      "outputs": [
        {
          "output_type": "stream",
          "text": [
            "{'AK': 3.647751674511867, 'AL': 20.495158853574683, 'AR': 11.115483690472459, 'AS': 0.0, 'AZ': 19.980495207593368, 'CA': 6.3110842079514375, 'CO': 17.441437374391096, 'CT': 4.249867343997888, 'DC': 3.312948215935589, 'DE': 11.26246581007792, 'FL': 16.521493412557263, 'GA': 11.279133955566026, 'GU': 8.458116511498933, 'HI': 6.760561471507997, 'IA': 24.836337310678797, 'ID': 30.411423134643112, 'IL': 7.783855928748303, 'IN': 21.816567625668576, 'KS': 26.88546019323031, 'KY': 8.381521581165527, 'LA': 7.679438185462564, 'MA': 8.879786566502188, 'MD': 10.219059244819185, 'ME': 1.7470558611801583, 'MI': 6.846714926849633, 'MN': 15.978061446639522, 'MO': 22.152668795520245, 'MP': 0.6483447128349303, 'MS': 17.194579775114388, 'MT': 11.285501538368498, 'NC': 7.945776407159452, 'ND': 31.77069899406758, 'NE': 23.09730936348855, 'NH': 7.59991180074242, 'NJ': 6.355906249712888, 'NM': 7.568663419455635, 'NV': 21.797204179356566, 'NY': 3.712293782796704, 'OH': 9.058130462321454, 'OK': 11.36036304390224, 'OR': 4.275247415506781, 'PA': 16.82952270193149, 'PR': 20.814322879217706, 'RI': 14.78382661899672, 'SC': 10.27506809056094, 'SD': 35.20879354855881, 'TN': 10.354603226596867, 'TX': 13.82180179222921, 'UT': 19.50037750767167, 'VA': 8.283136798736555, 'VI': 6.130936409981218, 'VT': 2.5019881833209117, 'WA': 6.395202156048434, 'WI': 21.09562122982863, 'WV': 5.2080728284114945, 'WY': 26.480886594010105}\n"
          ],
          "name": "stdout"
        }
      ]
    },
    {
      "cell_type": "code",
      "metadata": {
        "colab": {
          "base_uri": "https://localhost:8080/"
        },
        "id": "kAsmhvvkOZJ_",
        "outputId": "81a0f325-17a3-4d8a-a70d-7a79998c59f6"
      },
      "source": [
        "pos_rate_by_state.pop(\"AS\")\r\n",
        "case_by_state.pop(\"AS\")\r\n",
        "pos_rate_by_state.pop(\"GU\")\r\n",
        "case_by_state.pop(\"GU\")\r\n",
        "pos_rate_by_state.pop(\"MP\")\r\n",
        "case_by_state.pop(\"MP\")\r\n",
        "pos_rate_by_state.pop(\"PR\")\r\n",
        "case_by_state.pop(\"PR\")\r\n",
        "pos_rate_by_state.pop(\"VI\")\r\n",
        "case_by_state.pop(\"VI\")"
      ],
      "execution_count": null,
      "outputs": [
        {
          "output_type": "execute_result",
          "data": {
            "text/plain": [
              "1828.0"
            ]
          },
          "metadata": {
            "tags": []
          },
          "execution_count": 19
        }
      ]
    },
    {
      "cell_type": "code",
      "metadata": {
        "id": "su6cpQAeRAQc",
        "colab": {
          "base_uri": "https://localhost:8080/"
        },
        "outputId": "61278415-c5cc-464b-9445-0a6d3b6b414a"
      },
      "source": [
        "print(pos_rate_by_state)"
      ],
      "execution_count": null,
      "outputs": [
        {
          "output_type": "stream",
          "text": [
            "{'AK': 3.647751674511867, 'AL': 20.495158853574683, 'AR': 11.115483690472459, 'AZ': 19.980495207593368, 'CA': 6.3110842079514375, 'CO': 17.441437374391096, 'CT': 4.249867343997888, 'DC': 3.312948215935589, 'DE': 11.26246581007792, 'FL': 16.521493412557263, 'GA': 11.279133955566026, 'HI': 6.760561471507997, 'IA': 24.836337310678797, 'ID': 30.411423134643112, 'IL': 7.783855928748303, 'IN': 21.816567625668576, 'KS': 26.88546019323031, 'KY': 8.381521581165527, 'LA': 7.679438185462564, 'MA': 8.879786566502188, 'MD': 10.219059244819185, 'ME': 1.7470558611801583, 'MI': 6.846714926849633, 'MN': 15.978061446639522, 'MO': 22.152668795520245, 'MS': 17.194579775114388, 'MT': 11.285501538368498, 'NC': 7.945776407159452, 'ND': 31.77069899406758, 'NE': 23.09730936348855, 'NH': 7.59991180074242, 'NJ': 6.355906249712888, 'NM': 7.568663419455635, 'NV': 21.797204179356566, 'NY': 3.712293782796704, 'OH': 9.058130462321454, 'OK': 11.36036304390224, 'OR': 4.275247415506781, 'PA': 16.82952270193149, 'RI': 14.78382661899672, 'SC': 10.27506809056094, 'SD': 35.20879354855881, 'TN': 10.354603226596867, 'TX': 13.82180179222921, 'UT': 19.50037750767167, 'VA': 8.283136798736555, 'VT': 2.5019881833209117, 'WA': 6.395202156048434, 'WI': 21.09562122982863, 'WV': 5.2080728284114945, 'WY': 26.480886594010105}\n"
          ],
          "name": "stdout"
        }
      ]
    },
    {
      "cell_type": "code",
      "metadata": {
        "id": "Eg92JH2YHWe8"
      },
      "source": [
        "df_pop=pd.read_csv(\"https://raw.githubusercontent.com/JCSnedeker/Covid_Infection_Estimation/main/nst-est2019-01.csv\")"
      ],
      "execution_count": null,
      "outputs": []
    },
    {
      "cell_type": "code",
      "metadata": {
        "colab": {
          "base_uri": "https://localhost:8080/",
          "height": 774
        },
        "id": "LYyYbtrvIk-E",
        "outputId": "2a07cc42-13a2-408f-afb2-c5beba070427"
      },
      "source": [
        "df_pop.head(10)"
      ],
      "execution_count": null,
      "outputs": [
        {
          "output_type": "execute_result",
          "data": {
            "text/html": [
              "<div>\n",
              "<style scoped>\n",
              "    .dataframe tbody tr th:only-of-type {\n",
              "        vertical-align: middle;\n",
              "    }\n",
              "\n",
              "    .dataframe tbody tr th {\n",
              "        vertical-align: top;\n",
              "    }\n",
              "\n",
              "    .dataframe thead th {\n",
              "        text-align: right;\n",
              "    }\n",
              "</style>\n",
              "<table border=\"1\" class=\"dataframe\">\n",
              "  <thead>\n",
              "    <tr style=\"text-align: right;\">\n",
              "      <th></th>\n",
              "      <th>table with row headers in column A and column headers in rows 3 through 4. (leading dots indicate sub-parts)</th>\n",
              "      <th>Unnamed: 1</th>\n",
              "      <th>Unnamed: 2</th>\n",
              "      <th>Unnamed: 3</th>\n",
              "      <th>Unnamed: 4</th>\n",
              "      <th>Unnamed: 5</th>\n",
              "      <th>Unnamed: 6</th>\n",
              "      <th>Unnamed: 7</th>\n",
              "      <th>Unnamed: 8</th>\n",
              "      <th>Unnamed: 9</th>\n",
              "      <th>Unnamed: 10</th>\n",
              "      <th>Unnamed: 11</th>\n",
              "      <th>Unnamed: 12</th>\n",
              "      <th>Unnamed: 13</th>\n",
              "    </tr>\n",
              "  </thead>\n",
              "  <tbody>\n",
              "    <tr>\n",
              "      <th>0</th>\n",
              "      <td>Table 1. Annual Estimates of the Resident Popu...</td>\n",
              "      <td>NaN</td>\n",
              "      <td>NaN</td>\n",
              "      <td>NaN</td>\n",
              "      <td>NaN</td>\n",
              "      <td>NaN</td>\n",
              "      <td>NaN</td>\n",
              "      <td>NaN</td>\n",
              "      <td>NaN</td>\n",
              "      <td>NaN</td>\n",
              "      <td>NaN</td>\n",
              "      <td>NaN</td>\n",
              "      <td>NaN</td>\n",
              "      <td>NaN</td>\n",
              "    </tr>\n",
              "    <tr>\n",
              "      <th>1</th>\n",
              "      <td>Geographic Area</td>\n",
              "      <td>NaN</td>\n",
              "      <td>April 1, 2010</td>\n",
              "      <td>NaN</td>\n",
              "      <td>Population Estimate (as of July 1)</td>\n",
              "      <td>NaN</td>\n",
              "      <td>NaN</td>\n",
              "      <td>NaN</td>\n",
              "      <td>NaN</td>\n",
              "      <td>NaN</td>\n",
              "      <td>NaN</td>\n",
              "      <td>NaN</td>\n",
              "      <td>NaN</td>\n",
              "      <td>NaN</td>\n",
              "    </tr>\n",
              "    <tr>\n",
              "      <th>2</th>\n",
              "      <td>NaN</td>\n",
              "      <td>NaN</td>\n",
              "      <td>Census</td>\n",
              "      <td>Estimates Base</td>\n",
              "      <td>2010</td>\n",
              "      <td>2011</td>\n",
              "      <td>2012</td>\n",
              "      <td>2013</td>\n",
              "      <td>2014</td>\n",
              "      <td>2015</td>\n",
              "      <td>2016</td>\n",
              "      <td>2017</td>\n",
              "      <td>2018</td>\n",
              "      <td>2019</td>\n",
              "    </tr>\n",
              "    <tr>\n",
              "      <th>3</th>\n",
              "      <td>United States</td>\n",
              "      <td>NaN</td>\n",
              "      <td>308,745,538</td>\n",
              "      <td>308,758,105</td>\n",
              "      <td>309,321,666</td>\n",
              "      <td>311,556,874</td>\n",
              "      <td>313,830,990</td>\n",
              "      <td>315,993,715</td>\n",
              "      <td>318,301,008</td>\n",
              "      <td>320,635,163</td>\n",
              "      <td>322,941,311</td>\n",
              "      <td>324,985,539</td>\n",
              "      <td>326,687,501</td>\n",
              "      <td>328,239,523</td>\n",
              "    </tr>\n",
              "    <tr>\n",
              "      <th>4</th>\n",
              "      <td>Northeast</td>\n",
              "      <td>NaN</td>\n",
              "      <td>55,317,240</td>\n",
              "      <td>55,318,443</td>\n",
              "      <td>55,380,134</td>\n",
              "      <td>55,604,223</td>\n",
              "      <td>55,775,216</td>\n",
              "      <td>55,901,806</td>\n",
              "      <td>56,006,011</td>\n",
              "      <td>56,034,684</td>\n",
              "      <td>56,042,330</td>\n",
              "      <td>56,059,240</td>\n",
              "      <td>56,046,620</td>\n",
              "      <td>55,982,803</td>\n",
              "    </tr>\n",
              "    <tr>\n",
              "      <th>5</th>\n",
              "      <td>Midwest</td>\n",
              "      <td>NaN</td>\n",
              "      <td>66,927,001</td>\n",
              "      <td>66,929,725</td>\n",
              "      <td>66,974,416</td>\n",
              "      <td>67,157,800</td>\n",
              "      <td>67,336,743</td>\n",
              "      <td>67,560,379</td>\n",
              "      <td>67,745,167</td>\n",
              "      <td>67,860,583</td>\n",
              "      <td>67,987,540</td>\n",
              "      <td>68,126,781</td>\n",
              "      <td>68,236,628</td>\n",
              "      <td>68,329,004</td>\n",
              "    </tr>\n",
              "    <tr>\n",
              "      <th>6</th>\n",
              "      <td>South</td>\n",
              "      <td>NaN</td>\n",
              "      <td>114,555,744</td>\n",
              "      <td>114,563,030</td>\n",
              "      <td>114,866,680</td>\n",
              "      <td>116,006,522</td>\n",
              "      <td>117,241,208</td>\n",
              "      <td>118,364,400</td>\n",
              "      <td>119,624,037</td>\n",
              "      <td>120,997,341</td>\n",
              "      <td>122,351,760</td>\n",
              "      <td>123,542,189</td>\n",
              "      <td>124,569,433</td>\n",
              "      <td>125,580,448</td>\n",
              "    </tr>\n",
              "    <tr>\n",
              "      <th>7</th>\n",
              "      <td>West</td>\n",
              "      <td>NaN</td>\n",
              "      <td>71,945,553</td>\n",
              "      <td>71,946,907</td>\n",
              "      <td>72,100,436</td>\n",
              "      <td>72,788,329</td>\n",
              "      <td>73,477,823</td>\n",
              "      <td>74,167,130</td>\n",
              "      <td>74,925,793</td>\n",
              "      <td>75,742,555</td>\n",
              "      <td>76,559,681</td>\n",
              "      <td>77,257,329</td>\n",
              "      <td>77,834,820</td>\n",
              "      <td>78,347,268</td>\n",
              "    </tr>\n",
              "    <tr>\n",
              "      <th>8</th>\n",
              "      <td>.Alaska</td>\n",
              "      <td>AK</td>\n",
              "      <td>710,231</td>\n",
              "      <td>710,249</td>\n",
              "      <td>713,910</td>\n",
              "      <td>722,128</td>\n",
              "      <td>730,443</td>\n",
              "      <td>737,068</td>\n",
              "      <td>736,283</td>\n",
              "      <td>737,498</td>\n",
              "      <td>741,456</td>\n",
              "      <td>739,700</td>\n",
              "      <td>735,139</td>\n",
              "      <td>731,545</td>\n",
              "    </tr>\n",
              "    <tr>\n",
              "      <th>9</th>\n",
              "      <td>.Alabama</td>\n",
              "      <td>AL</td>\n",
              "      <td>4,779,736</td>\n",
              "      <td>4,780,125</td>\n",
              "      <td>4,785,437</td>\n",
              "      <td>4,799,069</td>\n",
              "      <td>4,815,588</td>\n",
              "      <td>4,830,081</td>\n",
              "      <td>4,841,799</td>\n",
              "      <td>4,852,347</td>\n",
              "      <td>4,863,525</td>\n",
              "      <td>4,874,486</td>\n",
              "      <td>4,887,681</td>\n",
              "      <td>4,903,185</td>\n",
              "    </tr>\n",
              "  </tbody>\n",
              "</table>\n",
              "</div>"
            ],
            "text/plain": [
              "  table with row headers in column A and column headers in rows 3 through 4. (leading dots indicate sub-parts)  ...  Unnamed: 13\n",
              "0  Table 1. Annual Estimates of the Resident Popu...                                                            ...          NaN\n",
              "1                                    Geographic Area                                                            ...          NaN\n",
              "2                                                NaN                                                            ...         2019\n",
              "3                                      United States                                                            ...  328,239,523\n",
              "4                                          Northeast                                                            ...   55,982,803\n",
              "5                                            Midwest                                                            ...   68,329,004\n",
              "6                                              South                                                            ...  125,580,448\n",
              "7                                               West                                                            ...   78,347,268\n",
              "8                                            .Alaska                                                            ...      731,545\n",
              "9                                           .Alabama                                                            ...    4,903,185\n",
              "\n",
              "[10 rows x 14 columns]"
            ]
          },
          "metadata": {
            "tags": []
          },
          "execution_count": 22
        }
      ]
    },
    {
      "cell_type": "code",
      "metadata": {
        "colab": {
          "base_uri": "https://localhost:8080/"
        },
        "id": "AbNbwxebOA5G",
        "outputId": "75744d64-1122-4106-cdd5-8aff1efd85e2"
      },
      "source": [
        "names=[]\r\n",
        "pops=[]\r\n",
        "state_pop={}\r\n",
        "for i in range(8,59):\r\n",
        "  rows=df_pop.loc[i]\r\n",
        "  names.append(rows[1])\r\n",
        "  pops.append(rows[13])\r\n",
        "for i in range(51):\r\n",
        "  state_pop[names[i]]=pops[i]\r\n",
        "print(state_pop)"
      ],
      "execution_count": null,
      "outputs": [
        {
          "output_type": "stream",
          "text": [
            "{'AK': '731,545', 'AL': '4,903,185', 'AR': '3,017,804', 'AZ': '7,278,717', 'CA': '39,512,223', 'CO': '5,758,736', 'CT': '3,565,287', 'DC': '705,749', 'DE': '973,764', 'FL': '21,477,737', 'GA': '10,617,423', 'HI': '1,415,872', 'IA': '3,155,070', 'ID': '1,787,065', 'IL': '12,671,821', 'IN': '6,732,219', 'KS': '2,913,314', 'KY': '4,467,673', 'LA': '4,648,794', 'MA': '6,892,503', 'MD': '6,045,680', 'ME': '1,344,212', 'MI': '9,986,857', 'MN': '5,639,632', 'MO': '6,137,428', 'MS': '2,976,149', 'MT': '1,068,778', 'NC': '10,488,084', 'ND': '762,062', 'NE': '1,934,408', 'NH': '1,359,711', 'NJ': '8,882,190', 'NM': '2,096,829', 'NV': '3,080,156', 'NY': '19,453,561', 'OH': '11,689,100', 'OK': '3,956,971', 'OR': '4,217,737', 'PA': '12,801,989', 'RI': '1,059,361', 'SC': '5,148,714', 'SD': '884,659', 'TN': '6,829,174', 'TX': '28,995,881', 'UT': '3,205,958', 'VA': '8,535,519', 'VT': '623,989', 'WA': '7,614,893', 'WI': '5,822,434', 'WV': '1,792,147', 'WY': '578,759'}\n"
          ],
          "name": "stdout"
        }
      ]
    },
    {
      "cell_type": "code",
      "metadata": {
        "colab": {
          "base_uri": "https://localhost:8080/"
        },
        "id": "2z5aYPEjcoQX",
        "outputId": "a35d06c8-6c45-4926-d862-d671ca406a23"
      },
      "source": [
        "c2=[]\r\n",
        "for value in case_by_state.values():\r\n",
        "  c2.append(value)\r\n",
        "print(c2)\r\n",
        "\r\n",
        "p2=[]\r\n",
        "for value in pos_rate_by_state.values():\r\n",
        "  p2.append(value)\r\n",
        "print(p2)"
      ],
      "execution_count": null,
      "outputs": [
        {
          "output_type": "stream",
          "text": [
            "[41041.0, 305640.0, 191504.0, 429219.0, 1671081.0, 296716.0, 157781.0, 25602.0, 47929.0, 1136024.0, 488338.0, 19954.0, 225050.0, 124019.0, 870600.0, 440850.0, 194569.0, 230693.0, 275545.0, 304112.0, 241767.0, 17311.0, 482815.0, 386412.0, 353038.0, 185643.0, 74644.0, 451874.0, 88686.0, 150861.0, 33433.0, 415075.0, 124357.0, 194098.0, 804555.0, 584766.0, 245229.0, 96092.0, 519369.0, 76209.0, 260119.0, 92603.0, 484285.0, 1519340.0, 240715.0, 292240.0, 6009.0, 205069.0, 478162.0, 66849.0, 40310.0]\n",
            "[3.647751674511867, 20.495158853574683, 11.115483690472459, 19.980495207593368, 6.3110842079514375, 17.441437374391096, 4.249867343997888, 3.312948215935589, 11.26246581007792, 16.521493412557263, 11.279133955566026, 6.760561471507997, 24.836337310678797, 30.411423134643112, 7.783855928748303, 21.816567625668576, 26.88546019323031, 8.381521581165527, 7.679438185462564, 8.879786566502188, 10.219059244819185, 1.7470558611801583, 6.846714926849633, 15.978061446639522, 22.152668795520245, 17.194579775114388, 11.285501538368498, 7.945776407159452, 31.77069899406758, 23.09730936348855, 7.59991180074242, 6.355906249712888, 7.568663419455635, 21.797204179356566, 3.712293782796704, 9.058130462321454, 11.36036304390224, 4.275247415506781, 16.82952270193149, 14.78382661899672, 10.27506809056094, 35.20879354855881, 10.354603226596867, 13.82180179222921, 19.50037750767167, 8.283136798736555, 2.5019881833209117, 6.395202156048434, 21.09562122982863, 5.2080728284114945, 26.480886594010105]\n"
          ],
          "name": "stdout"
        }
      ]
    },
    {
      "cell_type": "code",
      "metadata": {
        "colab": {
          "base_uri": "https://localhost:8080/"
        },
        "id": "_Fup5-VWSsG0",
        "outputId": "4c072131-772c-4e00-c1ef-1d8ec5953d8c"
      },
      "source": [
        "per_cap=[]\r\n",
        "names=[]\r\n",
        "infect={}\r\n",
        "for i in range(51):\r\n",
        "  rows=df_pop.loc[i+8]\r\n",
        "  names.append(rows[1])\r\n",
        "  count=float(c2[i])\r\n",
        "  p=pops[i]\r\n",
        "  p=p.replace(\",\",\"\")\r\n",
        "  population=float(p)\r\n",
        "  #print(population)\r\n",
        "  per=count*100/population\r\n",
        "  #print(per)\r\n",
        "  per_cap.append(per)\r\n",
        "for i in range(51):\r\n",
        "  infect[names[i]]=per_cap[i]\r\n",
        "print(infect)"
      ],
      "execution_count": null,
      "outputs": [
        {
          "output_type": "stream",
          "text": [
            "{'AK': 5.610181191861061, 'AL': 6.233499245898329, 'AR': 6.34580642082786, 'AZ': 5.896904633055524, 'CA': 4.2292760900848325, 'CO': 5.1524501209987745, 'CT': 4.425478229382375, 'DC': 3.627635320772683, 'DE': 4.922034497064997, 'FL': 5.28930957670261, 'GA': 4.599402322013543, 'HI': 1.4093081860507164, 'IA': 7.132963769425084, 'ID': 6.939814724142659, 'IL': 6.870362199718572, 'IN': 6.54836094904221, 'KS': 6.6786141143728415, 'KY': 5.163605304148267, 'LA': 5.927236182115189, 'MA': 4.412214256562529, 'MD': 3.99900424766114, 'ME': 1.2878176954230434, 'MI': 4.834503988592207, 'MN': 6.851723658564956, 'MO': 5.7522141196605485, 'MS': 6.237691728471928, 'MT': 6.984050944162399, 'NC': 4.308451381586951, 'ND': 11.6376357829153, 'NE': 7.798820104135219, 'NH': 2.4588313251860137, 'NJ': 4.673115526688801, 'NM': 5.9307172878665835, 'NV': 6.301563946761138, 'NY': 4.135772365789482, 'OH': 5.0026605983352015, 'OK': 6.197391893951207, 'OR': 2.278283354320101, 'PA': 4.0569399020730295, 'RI': 7.1938649808705435, 'SC': 5.052115926423569, 'SD': 10.467649116778329, 'TN': 7.091413983594502, 'TX': 5.239847687331866, 'UT': 7.508364114564196, 'VA': 3.423810549774419, 'VT': 0.9629977451525588, 'WA': 2.692999100578301, 'WI': 8.212407388387742, 'WV': 3.7301069610919195, 'WY': 6.96490248963731}\n"
          ],
          "name": "stdout"
        }
      ]
    },
    {
      "cell_type": "code",
      "metadata": {
        "id": "tX0-Upzdm86G"
      },
      "source": [
        "import plotly.express as px\r\n",
        "import matplotlib.pylab as plt\r\n",
        "from scipy.optimize import curve_fit"
      ],
      "execution_count": null,
      "outputs": []
    },
    {
      "cell_type": "code",
      "metadata": {
        "colab": {
          "base_uri": "https://localhost:8080/",
          "height": 313
        },
        "id": "FeOH_vhknKTi",
        "outputId": "e8f076ac-41b7-4a06-9a19-ef937c6ad5de"
      },
      "source": [
        "x=[]\r\n",
        "y=[]\r\n",
        "for i in range(51):\r\n",
        "  x.append(per_cap[i])\r\n",
        "  y.append(p2[i])\r\n",
        "\r\n",
        "#def fsigmoid(x, a, b):\r\n",
        "#    return 1.0 / (1.0 + np.exp(-a*(x-b)))\r\n",
        "\r\n",
        "#popt, pcov = curve_fit(fsigmoid, x, y, method='dogbox', bounds=([0., 12.],[0.01, 24.]))\r\n",
        "#x_fit = np.linspace(0, 12, 50)\r\n",
        "#y_fit = fsigmoid(x_fit, *popt)\r\n",
        "\r\n",
        "fig, ax = plt.subplots()\r\n",
        "ax.scatter(x,y)\r\n",
        "#ax.plot(x_fit,y_fit)\r\n",
        "ax.set_title(\"Correlation of Positive Test Rate and Reported per Capita Infections\")\r\n",
        "plt.xlabel('Per Capita Cases (% of population)')\r\n",
        "plt.ylabel(\"Positive Test Rate (% of all tests)\")"
      ],
      "execution_count": null,
      "outputs": [
        {
          "output_type": "execute_result",
          "data": {
            "text/plain": [
              "Text(0, 0.5, 'Positive Test Rate (% of all tests)')"
            ]
          },
          "metadata": {
            "tags": []
          },
          "execution_count": 28
        },
        {
          "output_type": "display_data",
          "data": {
            "image/png": "[encoded data removed]",
            "text/plain": [
              "<Figure size 432x288 with 1 Axes>"
            ]
          },
          "metadata": {
            "tags": [],
            "needs_background": "light"
          }
        }
      ]
    },
    {
      "cell_type": "code",
      "metadata": {
        "colab": {
          "base_uri": "https://localhost:8080/"
        },
        "id": "qZsHoYlAK20G",
        "outputId": "683f9c71-8d43-44b8-9a9a-bc32e02ac624"
      },
      "source": [
        "a=[]\r\n",
        "num=0\r\n",
        "for i in range(51):\r\n",
        "  if y[i]<10:\r\n",
        "    a.append(x[i]*1.9)\r\n",
        "  else:\r\n",
        "    a.append(x[i]*1.9+x[i]*(y[i]-10)/10)\r\n",
        "  num=num+y[i]\r\n",
        "print(num/50)"
      ],
      "execution_count": null,
      "outputs": [
        {
          "output_type": "stream",
          "text": [
            "13.59512639456281\n"
          ],
          "name": "stdout"
        }
      ]
    },
    {
      "cell_type": "code",
      "metadata": {
        "colab": {
          "base_uri": "https://localhost:8080/",
          "height": 313
        },
        "id": "ZS7itw_Qnn4I",
        "outputId": "127bdff2-07ad-4561-b639-a07e3a888abe"
      },
      "source": [
        "fig, ax = plt.subplots()\r\n",
        "ax.scatter(x,a)\r\n",
        "ax.set_title(\"Effect of Correcting Case Counts\")\r\n",
        "plt.xlabel('Per Capita Known Cases (% of population)')\r\n",
        "plt.ylabel(\"Per Capita Estimation of Cases (% of population)\")"
      ],
      "execution_count": null,
      "outputs": [
        {
          "output_type": "execute_result",
          "data": {
            "text/plain": [
              "Text(0, 0.5, 'Per Capita Estimation of Cases (% of population)')"
            ]
          },
          "metadata": {
            "tags": []
          },
          "execution_count": 42
        },
        {
          "output_type": "display_data",
          "data": {
            "image/png": "[encoded data removed]",
            "text/plain": [
              "<Figure size 432x288 with 1 Axes>"
            ]
          },
          "metadata": {
            "tags": [],
            "needs_background": "light"
          }
        }
      ]
    },
    {
      "cell_type": "code",
      "metadata": {
        "colab": {
          "base_uri": "https://localhost:8080/",
          "height": 313
        },
        "id": "ehbH6yFTojgK",
        "outputId": "6f06561f-51e9-4b4e-da2d-37a061046ac9"
      },
      "source": [
        "fig, ax = plt.subplots()\r\n",
        "ax.scatter(a,y)\r\n",
        "ax.set_title(\"Corrected Comparison of Case Counts to Positive Rate\")\r\n",
        "plt.xlabel('Per Capita Estimation of Cases (% of population)')\r\n",
        "plt.ylabel(\"Positive Test Rate (% of all tests)\")"
      ],
      "execution_count": null,
      "outputs": [
        {
          "output_type": "execute_result",
          "data": {
            "text/plain": [
              "Text(0, 0.5, 'Positive Test Rate (% of all tests)')"
            ]
          },
          "metadata": {
            "tags": []
          },
          "execution_count": 44
        },
        {
          "output_type": "display_data",
          "data": {
            "image/png": "[encoded data removed]",
            "text/plain": [
              "<Figure size 432x288 with 1 Axes>"
            ]
          },
          "metadata": {
            "tags": [],
            "needs_background": "light"
          }
        }
      ]
    },
    {
      "cell_type": "code",
      "metadata": {
        "id": "mkOq92aDOGch"
      },
      "source": [
        ""
      ],
      "execution_count": null,
      "outputs": []
    },
    {
      "cell_type": "code",
      "metadata": {
        "colab": {
          "base_uri": "https://localhost:8080/"
        },
        "id": "9XeVi-BHOy6D",
        "outputId": "dd5a22bd-b2be-4b5b-8a75-b0e736229935"
      },
      "source": [
        "!apt install gdal-bin python-gdal python3-gdal\r\n",
        "!apt install python3-rtree\r\n",
        "!pip install git+git://github.com/geopandas/geopandas.git\r\n",
        "!pip install descartes\r\n",
        "!pip install folium\r\n",
        "!pip install mapclassify"
      ],
      "execution_count": null,
      "outputs": [
        {
          "output_type": "stream",
          "text": [
            "Reading package lists... Done\n",
            "Building dependency tree       \n",
            "Reading state information... Done\n",
            "gdal-bin is already the newest version (2.2.3+dfsg-2).\n",
            "python-gdal is already the newest version (2.2.3+dfsg-2).\n",
            "python3-gdal is already the newest version (2.2.3+dfsg-2).\n",
            "0 upgraded, 0 newly installed, 0 to remove and 14 not upgraded.\n",
            "Reading package lists... Done\n",
            "Building dependency tree       \n",
            "Reading state information... Done\n",
            "The following additional packages will be installed:\n",
            "  libspatialindex-c4v5 libspatialindex-dev libspatialindex4v5\n",
            "  python3-pkg-resources\n",
            "Suggested packages:\n",
            "  python3-setuptools\n",
            "The following NEW packages will be installed:\n",
            "  libspatialindex-c4v5 libspatialindex-dev libspatialindex4v5\n",
            "  python3-pkg-resources python3-rtree\n",
            "0 upgraded, 5 newly installed, 0 to remove and 14 not upgraded.\n",
            "Need to get 671 kB of archives.\n",
            "After this operation, 3,948 kB of additional disk space will be used.\n",
            "Get:1 http://archive.ubuntu.com/ubuntu bionic/universe amd64 libspatialindex4v5 amd64 1.8.5-5 [219 kB]\n",
            "Get:2 http://archive.ubuntu.com/ubuntu bionic/universe amd64 libspatialindex-c4v5 amd64 1.8.5-5 [51.7 kB]\n",
            "Get:3 http://archive.ubuntu.com/ubuntu bionic/main amd64 python3-pkg-resources all 39.0.1-2 [98.8 kB]\n",
            "Get:4 http://archive.ubuntu.com/ubuntu bionic/universe amd64 libspatialindex-dev amd64 1.8.5-5 [285 kB]\n",
            "Get:5 http://archive.ubuntu.com/ubuntu bionic/universe amd64 python3-rtree all 0.8.3+ds-1 [16.9 kB]\n",
            "Fetched 671 kB in 0s (6,317 kB/s)\n",
            "Selecting previously unselected package libspatialindex4v5:amd64.\n",
            "(Reading database ... 144865 files and directories currently installed.)\n",
            "Preparing to unpack .../libspatialindex4v5_1.8.5-5_amd64.deb ...\n",
            "Unpacking libspatialindex4v5:amd64 (1.8.5-5) ...\n",
            "Selecting previously unselected package libspatialindex-c4v5:amd64.\n",
            "Preparing to unpack .../libspatialindex-c4v5_1.8.5-5_amd64.deb ...\n",
            "Unpacking libspatialindex-c4v5:amd64 (1.8.5-5) ...\n",
            "Selecting previously unselected package python3-pkg-resources.\n",
            "Preparing to unpack .../python3-pkg-resources_39.0.1-2_all.deb ...\n",
            "Unpacking python3-pkg-resources (39.0.1-2) ...\n",
            "Selecting previously unselected package libspatialindex-dev:amd64.\n",
            "Preparing to unpack .../libspatialindex-dev_1.8.5-5_amd64.deb ...\n",
            "Unpacking libspatialindex-dev:amd64 (1.8.5-5) ...\n",
            "Selecting previously unselected package python3-rtree.\n",
            "Preparing to unpack .../python3-rtree_0.8.3+ds-1_all.deb ...\n",
            "Unpacking python3-rtree (0.8.3+ds-1) ...\n",
            "Setting up libspatialindex4v5:amd64 (1.8.5-5) ...\n",
            "Setting up python3-pkg-resources (39.0.1-2) ...\n",
            "Setting up libspatialindex-c4v5:amd64 (1.8.5-5) ...\n",
            "Setting up libspatialindex-dev:amd64 (1.8.5-5) ...\n",
            "Setting up python3-rtree (0.8.3+ds-1) ...\n",
            "Processing triggers for libc-bin (2.27-3ubuntu1.2) ...\n",
            "/sbin/ldconfig.real: /usr/local/lib/python3.6/dist-packages/ideep4py/lib/libmkldnn.so.0 is not a symbolic link\n",
            "\n",
            "Collecting git+git://github.com/geopandas/geopandas.git\n",
            "  Cloning git://github.com/geopandas/geopandas.git to /tmp/pip-req-build-tho2eukh\n",
            "  Running command git clone -q git://github.com/geopandas/geopandas.git /tmp/pip-req-build-tho2eukh\n",
            "Requirement already satisfied: pandas>=0.24.0 in /usr/local/lib/python3.6/dist-packages (from geopandas==0.8.0+72.ge506de5) (1.1.5)\n",
            "Requirement already satisfied: shapely>=1.6 in /usr/local/lib/python3.6/dist-packages (from geopandas==0.8.0+72.ge506de5) (1.7.1)\n",
            "Collecting fiona>=1.8\n",
            "\u001b[?25l  Downloading https://files.pythonhosted.org/packages/37/94/4910fd55246c1d963727b03885ead6ef1cd3748a465f7b0239ab25dfc9a3/Fiona-1.8.18-cp36-cp36m-manylinux1_x86_64.whl (14.8MB)\n",
            "\u001b[K     |████████████████████████████████| 14.8MB 320kB/s \n",
            "\u001b[?25hCollecting pyproj>=2.2.0\n",
            "\u001b[?25l  Downloading https://files.pythonhosted.org/packages/e4/ab/280e80a67cfc109d15428c0ec56391fc03a65857b7727cf4e6e6f99a4204/pyproj-3.0.0.post1-cp36-cp36m-manylinux2010_x86_64.whl (6.4MB)\n",
            "\u001b[K     |████████████████████████████████| 6.5MB 42.5MB/s \n",
            "\u001b[?25hRequirement already satisfied: pytz>=2017.2 in /usr/local/lib/python3.6/dist-packages (from pandas>=0.24.0->geopandas==0.8.0+72.ge506de5) (2018.9)\n",
            "Requirement already satisfied: python-dateutil>=2.7.3 in /usr/local/lib/python3.6/dist-packages (from pandas>=0.24.0->geopandas==0.8.0+72.ge506de5) (2.8.1)\n",
            "Requirement already satisfied: numpy>=1.15.4 in /usr/local/lib/python3.6/dist-packages (from pandas>=0.24.0->geopandas==0.8.0+72.ge506de5) (1.19.4)\n",
            "Collecting cligj>=0.5\n",
            "  Downloading https://files.pythonhosted.org/packages/42/1e/947eadf10d6804bf276eb8a038bd5307996dceaaa41cfd21b7a15ec62f5d/cligj-0.7.1-py3-none-any.whl\n",
            "Collecting click-plugins>=1.0\n",
            "  Downloading https://files.pythonhosted.org/packages/e9/da/824b92d9942f4e472702488857914bdd50f73021efea15b4cad9aca8ecef/click_plugins-1.1.1-py2.py3-none-any.whl\n",
            "Requirement already satisfied: six>=1.7 in /usr/local/lib/python3.6/dist-packages (from fiona>=1.8->geopandas==0.8.0+72.ge506de5) (1.15.0)\n",
            "Requirement already satisfied: click<8,>=4.0 in /usr/local/lib/python3.6/dist-packages (from fiona>=1.8->geopandas==0.8.0+72.ge506de5) (7.1.2)\n",
            "Requirement already satisfied: attrs>=17 in /usr/local/lib/python3.6/dist-packages (from fiona>=1.8->geopandas==0.8.0+72.ge506de5) (20.3.0)\n",
            "Collecting munch\n",
            "  Downloading https://files.pythonhosted.org/packages/cc/ab/85d8da5c9a45e072301beb37ad7f833cd344e04c817d97e0cc75681d248f/munch-2.5.0-py2.py3-none-any.whl\n",
            "Requirement already satisfied: certifi in /usr/local/lib/python3.6/dist-packages (from fiona>=1.8->geopandas==0.8.0+72.ge506de5) (2020.12.5)\n",
            "Building wheels for collected packages: geopandas\n",
            "  Building wheel for geopandas (setup.py) ... \u001b[?25l\u001b[?25hdone\n",
            "  Created wheel for geopandas: filename=geopandas-0.8.0+72.ge506de5-py2.py3-none-any.whl size=973052 sha256=0cf5d3ead5ca4f934da903de57cffc2ab7f23755295e6d3c14a3c04a419e00ec\n",
            "  Stored in directory: /tmp/pip-ephem-wheel-cache-iump6e4k/wheels/91/24/71/376c9c67192694168352afcccc2d264248f7e2cc6192997186\n",
            "Successfully built geopandas\n",
            "Installing collected packages: cligj, click-plugins, munch, fiona, pyproj, geopandas\n",
            "Successfully installed click-plugins-1.1.1 cligj-0.7.1 fiona-1.8.18 geopandas-0.8.0+72.ge506de5 munch-2.5.0 pyproj-3.0.0.post1\n",
            "Requirement already satisfied: descartes in /usr/local/lib/python3.6/dist-packages (1.1.0)\n",
            "Requirement already satisfied: matplotlib in /usr/local/lib/python3.6/dist-packages (from descartes) (3.2.2)\n",
            "Requirement already satisfied: kiwisolver>=1.0.1 in /usr/local/lib/python3.6/dist-packages (from matplotlib->descartes) (1.3.1)\n",
            "Requirement already satisfied: pyparsing!=2.0.4,!=2.1.2,!=2.1.6,>=2.0.1 in /usr/local/lib/python3.6/dist-packages (from matplotlib->descartes) (2.4.7)\n",
            "Requirement already satisfied: python-dateutil>=2.1 in /usr/local/lib/python3.6/dist-packages (from matplotlib->descartes) (2.8.1)\n",
            "Requirement already satisfied: numpy>=1.11 in /usr/local/lib/python3.6/dist-packages (from matplotlib->descartes) (1.19.4)\n",
            "Requirement already satisfied: cycler>=0.10 in /usr/local/lib/python3.6/dist-packages (from matplotlib->descartes) (0.10.0)\n",
            "Requirement already satisfied: six>=1.5 in /usr/local/lib/python3.6/dist-packages (from python-dateutil>=2.1->matplotlib->descartes) (1.15.0)\n",
            "Requirement already satisfied: folium in /usr/local/lib/python3.6/dist-packages (0.8.3)\n",
            "Requirement already satisfied: numpy in /usr/local/lib/python3.6/dist-packages (from folium) (1.19.4)\n",
            "Requirement already satisfied: requests in /usr/local/lib/python3.6/dist-packages (from folium) (2.23.0)\n",
            "Requirement already satisfied: six in /usr/local/lib/python3.6/dist-packages (from folium) (1.15.0)\n",
            "Requirement already satisfied: branca>=0.3.0 in /usr/local/lib/python3.6/dist-packages (from folium) (0.4.1)\n",
            "Requirement already satisfied: jinja2 in /usr/local/lib/python3.6/dist-packages (from folium) (2.11.2)\n",
            "Requirement already satisfied: urllib3!=1.25.0,!=1.25.1,<1.26,>=1.21.1 in /usr/local/lib/python3.6/dist-packages (from requests->folium) (1.24.3)\n",
            "Requirement already satisfied: certifi>=2017.4.17 in /usr/local/lib/python3.6/dist-packages (from requests->folium) (2020.12.5)\n",
            "Requirement already satisfied: chardet<4,>=3.0.2 in /usr/local/lib/python3.6/dist-packages (from requests->folium) (3.0.4)\n",
            "Requirement already satisfied: idna<3,>=2.5 in /usr/local/lib/python3.6/dist-packages (from requests->folium) (2.10)\n",
            "Requirement already satisfied: MarkupSafe>=0.23 in /usr/local/lib/python3.6/dist-packages (from jinja2->folium) (1.1.1)\n",
            "Collecting mapclassify\n",
            "  Downloading https://files.pythonhosted.org/packages/a4/24/fa7512ea4c4a07eb05f845023275edcbb73f08f9150662acbfd31bf5e047/mapclassify-2.4.0-py3-none-any.whl\n",
            "Requirement already satisfied: networkx in /usr/local/lib/python3.6/dist-packages (from mapclassify) (2.5)\n",
            "Requirement already satisfied: scikit-learn in /usr/local/lib/python3.6/dist-packages (from mapclassify) (0.22.2.post1)\n",
            "Requirement already satisfied: pandas>=1.0 in /usr/local/lib/python3.6/dist-packages (from mapclassify) (1.1.5)\n",
            "Requirement already satisfied: numpy>=1.3 in /usr/local/lib/python3.6/dist-packages (from mapclassify) (1.19.4)\n",
            "Requirement already satisfied: scipy>=1.0 in /usr/local/lib/python3.6/dist-packages (from mapclassify) (1.4.1)\n",
            "Requirement already satisfied: decorator>=4.3.0 in /usr/local/lib/python3.6/dist-packages (from networkx->mapclassify) (4.4.2)\n",
            "Requirement already satisfied: joblib>=0.11 in /usr/local/lib/python3.6/dist-packages (from scikit-learn->mapclassify) (1.0.0)\n",
            "Requirement already satisfied: python-dateutil>=2.7.3 in /usr/local/lib/python3.6/dist-packages (from pandas>=1.0->mapclassify) (2.8.1)\n",
            "Requirement already satisfied: pytz>=2017.2 in /usr/local/lib/python3.6/dist-packages (from pandas>=1.0->mapclassify) (2018.9)\n",
            "Requirement already satisfied: six>=1.5 in /usr/local/lib/python3.6/dist-packages (from python-dateutil>=2.7.3->pandas>=1.0->mapclassify) (1.15.0)\n",
            "Installing collected packages: mapclassify\n",
            "Successfully installed mapclassify-2.4.0\n"
          ],
          "name": "stdout"
        }
      ]
    },
    {
      "cell_type": "code",
      "metadata": {
        "id": "rKUR28PCS1YG"
      },
      "source": [
        "import geopandas as gpd\r\n",
        "import mapclassify"
      ],
      "execution_count": null,
      "outputs": []
    },
    {
      "cell_type": "code",
      "metadata": {
        "id": "RWj1uMRdYVJz"
      },
      "source": [
        "gdf_states=gpd.read_file(\"tl_2019_us_state.shp\")"
      ],
      "execution_count": null,
      "outputs": []
    },
    {
      "cell_type": "code",
      "metadata": {
        "colab": {
          "base_uri": "https://localhost:8080/",
          "height": 551
        },
        "id": "h33j2w9rg5sz",
        "outputId": "efe73bfc-5a02-475d-e161-31a2a67bffbc"
      },
      "source": [
        "gdf_states.head()"
      ],
      "execution_count": null,
      "outputs": [
        {
          "output_type": "execute_result",
          "data": {
            "text/html": [
              "<div>\n",
              "<style scoped>\n",
              "    .dataframe tbody tr th:only-of-type {\n",
              "        vertical-align: middle;\n",
              "    }\n",
              "\n",
              "    .dataframe tbody tr th {\n",
              "        vertical-align: top;\n",
              "    }\n",
              "\n",
              "    .dataframe thead th {\n",
              "        text-align: right;\n",
              "    }\n",
              "</style>\n",
              "<table border=\"1\" class=\"dataframe\">\n",
              "  <thead>\n",
              "    <tr style=\"text-align: right;\">\n",
              "      <th></th>\n",
              "      <th>REGION</th>\n",
              "      <th>DIVISION</th>\n",
              "      <th>STATEFP</th>\n",
              "      <th>STATENS</th>\n",
              "      <th>GEOID</th>\n",
              "      <th>STUSPS</th>\n",
              "      <th>NAME</th>\n",
              "      <th>LSAD</th>\n",
              "      <th>MTFCC</th>\n",
              "      <th>FUNCSTAT</th>\n",
              "      <th>ALAND</th>\n",
              "      <th>AWATER</th>\n",
              "      <th>INTPTLAT</th>\n",
              "      <th>INTPTLON</th>\n",
              "      <th>geometry</th>\n",
              "    </tr>\n",
              "  </thead>\n",
              "  <tbody>\n",
              "    <tr>\n",
              "      <th>0</th>\n",
              "      <td>3</td>\n",
              "      <td>5</td>\n",
              "      <td>54</td>\n",
              "      <td>01779805</td>\n",
              "      <td>54</td>\n",
              "      <td>WV</td>\n",
              "      <td>West Virginia</td>\n",
              "      <td>00</td>\n",
              "      <td>G4000</td>\n",
              "      <td>A</td>\n",
              "      <td>62266231560</td>\n",
              "      <td>489271086</td>\n",
              "      <td>+38.6472854</td>\n",
              "      <td>-080.6183274</td>\n",
              "      <td>POLYGON ((-81.74725 39.09538, -81.74635 39.096...</td>\n",
              "    </tr>\n",
              "    <tr>\n",
              "      <th>1</th>\n",
              "      <td>3</td>\n",
              "      <td>5</td>\n",
              "      <td>12</td>\n",
              "      <td>00294478</td>\n",
              "      <td>12</td>\n",
              "      <td>FL</td>\n",
              "      <td>Florida</td>\n",
              "      <td>00</td>\n",
              "      <td>G4000</td>\n",
              "      <td>A</td>\n",
              "      <td>138947364717</td>\n",
              "      <td>31362872853</td>\n",
              "      <td>+28.4574302</td>\n",
              "      <td>-082.4091477</td>\n",
              "      <td>MULTIPOLYGON (((-86.38865 30.99418, -86.38385 ...</td>\n",
              "    </tr>\n",
              "    <tr>\n",
              "      <th>2</th>\n",
              "      <td>2</td>\n",
              "      <td>3</td>\n",
              "      <td>17</td>\n",
              "      <td>01779784</td>\n",
              "      <td>17</td>\n",
              "      <td>IL</td>\n",
              "      <td>Illinois</td>\n",
              "      <td>00</td>\n",
              "      <td>G4000</td>\n",
              "      <td>A</td>\n",
              "      <td>143779863817</td>\n",
              "      <td>6215723896</td>\n",
              "      <td>+40.1028754</td>\n",
              "      <td>-089.1526108</td>\n",
              "      <td>POLYGON ((-91.18529 40.63780, -91.17510 40.643...</td>\n",
              "    </tr>\n",
              "    <tr>\n",
              "      <th>3</th>\n",
              "      <td>2</td>\n",
              "      <td>4</td>\n",
              "      <td>27</td>\n",
              "      <td>00662849</td>\n",
              "      <td>27</td>\n",
              "      <td>MN</td>\n",
              "      <td>Minnesota</td>\n",
              "      <td>00</td>\n",
              "      <td>G4000</td>\n",
              "      <td>A</td>\n",
              "      <td>206230065476</td>\n",
              "      <td>18942261495</td>\n",
              "      <td>+46.3159573</td>\n",
              "      <td>-094.1996043</td>\n",
              "      <td>POLYGON ((-96.78438 46.63050, -96.78434 46.630...</td>\n",
              "    </tr>\n",
              "    <tr>\n",
              "      <th>4</th>\n",
              "      <td>3</td>\n",
              "      <td>5</td>\n",
              "      <td>24</td>\n",
              "      <td>01714934</td>\n",
              "      <td>24</td>\n",
              "      <td>MD</td>\n",
              "      <td>Maryland</td>\n",
              "      <td>00</td>\n",
              "      <td>G4000</td>\n",
              "      <td>A</td>\n",
              "      <td>25151726296</td>\n",
              "      <td>6979340970</td>\n",
              "      <td>+38.9466584</td>\n",
              "      <td>-076.6744939</td>\n",
              "      <td>POLYGON ((-77.45881 39.22027, -77.45866 39.220...</td>\n",
              "    </tr>\n",
              "  </tbody>\n",
              "</table>\n",
              "</div>"
            ],
            "text/plain": [
              "  REGION  ...                                           geometry\n",
              "0      3  ...  POLYGON ((-81.74725 39.09538, -81.74635 39.096...\n",
              "1      3  ...  MULTIPOLYGON (((-86.38865 30.99418, -86.38385 ...\n",
              "2      2  ...  POLYGON ((-91.18529 40.63780, -91.17510 40.643...\n",
              "3      2  ...  POLYGON ((-96.78438 46.63050, -96.78434 46.630...\n",
              "4      3  ...  POLYGON ((-77.45881 39.22027, -77.45866 39.220...\n",
              "\n",
              "[5 rows x 15 columns]"
            ]
          },
          "metadata": {
            "tags": []
          },
          "execution_count": 39
        }
      ]
    },
    {
      "cell_type": "code",
      "metadata": {
        "colab": {
          "base_uri": "https://localhost:8080/",
          "height": 131
        },
        "id": "OL5xkOFRdIra",
        "outputId": "36cf1d29-5422-468e-eb4a-7b0bcbce3fd6"
      },
      "source": [
        "gdf_states(\"STATEFP\")=gdf_states(\"STATEFP\").astype(int)"
      ],
      "execution_count": null,
      "outputs": [
        {
          "output_type": "error",
          "ename": "SyntaxError",
          "evalue": "ignored",
          "traceback": [
            "\u001b[0;36m  File \u001b[0;32m\"<ipython-input-38-0cbd1d0a3cc1>\"\u001b[0;36m, line \u001b[0;32m1\u001b[0m\n\u001b[0;31m    gdf_states(\"STATEFP\")=gdf_states(\"STATEFP\").astype(int)\u001b[0m\n\u001b[0m                                                           ^\u001b[0m\n\u001b[0;31mSyntaxError\u001b[0m\u001b[0;31m:\u001b[0m can't assign to function call\n"
          ]
        }
      ]
    },
    {
      "cell_type": "code",
      "metadata": {
        "colab": {
          "base_uri": "https://localhost:8080/"
        },
        "id": "CMnfGdUnevMk",
        "outputId": "48ea5afb-e923-4f23-e6f0-b3a4190ef19b"
      },
      "source": [
        "gdf_states.info()"
      ],
      "execution_count": null,
      "outputs": [
        {
          "output_type": "stream",
          "text": [
            "<class 'geopandas.geodataframe.GeoDataFrame'>\n",
            "RangeIndex: 56 entries, 0 to 55\n",
            "Data columns (total 15 columns):\n",
            " #   Column    Non-Null Count  Dtype   \n",
            "---  ------    --------------  -----   \n",
            " 0   REGION    56 non-null     object  \n",
            " 1   DIVISION  56 non-null     object  \n",
            " 2   STATEFP   56 non-null     object  \n",
            " 3   STATENS   56 non-null     object  \n",
            " 4   GEOID     56 non-null     object  \n",
            " 5   STUSPS    56 non-null     object  \n",
            " 6   NAME      56 non-null     object  \n",
            " 7   LSAD      56 non-null     object  \n",
            " 8   MTFCC     56 non-null     object  \n",
            " 9   FUNCSTAT  56 non-null     object  \n",
            " 10  ALAND     56 non-null     int64   \n",
            " 11  AWATER    56 non-null     int64   \n",
            " 12  INTPTLAT  56 non-null     object  \n",
            " 13  INTPTLON  56 non-null     object  \n",
            " 14  geometry  56 non-null     geometry\n",
            "dtypes: geometry(1), int64(2), object(12)\n",
            "memory usage: 6.7+ KB\n"
          ],
          "name": "stdout"
        }
      ]
    }
  ]
}